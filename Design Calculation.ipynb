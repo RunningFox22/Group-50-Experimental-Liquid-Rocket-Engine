{
 "cells": [
  {
   "cell_type": "code",
   "execution_count": 28,
   "source": [
    "import numpy as np"
   ],
   "outputs": [],
   "metadata": {}
  },
  {
   "cell_type": "markdown",
   "source": [
    "Target:\n",
    "- F$\\Delta$t = 1280 N*s"
   ],
   "metadata": {}
  },
  {
   "cell_type": "markdown",
   "source": [
    "Propellant:\n",
    "- Methyl alcohol (CH3OH) + Oxygen Gas (O2)\n",
    "- 2CH3OH(l) + 3O2(g) → 2CO2(g) + 4H2O(l)"
   ],
   "metadata": {}
  },
  {
   "cell_type": "markdown",
   "source": [
    "Constants:"
   ],
   "metadata": {}
  },
  {
   "cell_type": "code",
   "execution_count": 29,
   "source": [
    "# Universal gas constant [J*kp/K]\n",
    "Ru = 8.314 \n",
    "# Molecular weight of Methyl Alcohol [Kg/Mol]\n",
    "M = 32\n",
    "# Gravity [m/s^2]\n",
    "g = 9.81\n",
    "# gamma for ideal gas (Cp/Cv)\n",
    "ga = 1.4"
   ],
   "outputs": [],
   "metadata": {}
  },
  {
   "cell_type": "markdown",
   "source": [
    "Assumes/Input parameters:"
   ],
   "metadata": {}
  },
  {
   "cell_type": "code",
   "execution_count": 30,
   "source": [
    "# Mixture ratio (O/F) \n",
    "r = 1.5\n",
    "# Thrust [N]  \n",
    "F = 640 \n",
    "# Specific impulse [sec]\n",
    "Isp = 248 \n",
    "# Chamber Pressure [kPa]\n",
    "Pc = 2068 \n",
    "# Specific constant [J*kp/K]\n",
    "Rs = 0.259 \n",
    "# Chamber temperature [K]\n",
    "Tc = 3155.4 \n",
    "# Atmosphere pressure [kPa]\n",
    "Patm = 101.35"
   ],
   "outputs": [],
   "metadata": {}
  },
  {
   "cell_type": "code",
   "execution_count": 31,
   "source": [
    "# The total propellant flow rate [kg/s]\n",
    "w = (F/Isp)/g\n",
    "\n",
    "# Fuel flow rate\n",
    "wf = w/(r+1)\n",
    "\n",
    "# Oxygen flow rate\n",
    "wo = w - wf\n",
    "\n",
    "print(f'total mass flow rate={w:.3e} kg/s, fuel flow rate={wf:.3e} kg/s, oxidizer flow rate={wo:.3e} kg/s')"
   ],
   "outputs": [
    {
     "output_type": "stream",
     "name": "stdout",
     "text": [
      "total mass flow rate=2.631e-01 kg/s, fuel flow rate=1.052e-01 kg/s, oxidizer flow rate=1.578e-01 kg/s\n"
     ]
    }
   ],
   "metadata": {}
  },
  {
   "cell_type": "code",
   "execution_count": 32,
   "source": [
    "# Nozzel parameters\n",
    "Tt = Tc * (1/(1+((ga-1)/2)))\n",
    "                 \n",
    "Pt = Pc * ((1+((ga-1)/2))**(-ga/(ga-1)))\n",
    "                               \n",
    "# in meters\n",
    "At = (w/Pt)*np.sqrt( (Rs*Tt)/(ga*g) )\n",
    "\n",
    "Dt = np.sqrt(4*At/np.pi)\n",
    "\n",
    "print(f'Throat Temperature={Tt:.3e} K, Throat Pessure={Pt:.3e} kPa, Throat Area={At:.3e} m^2, Throat Diameter={Dt:.3e} m')"
   ],
   "outputs": [
    {
     "output_type": "stream",
     "name": "stdout",
     "text": [
      "Throat Temperature=2.630e+03 K, Throat Pessure=1.092e+03 kPa, Throat Area=1.696e-03 m^2, Throat Diameter=4.646e-02 m\n"
     ]
    }
   ],
   "metadata": {}
  },
  {
   "cell_type": "code",
   "execution_count": 33,
   "source": [
    "# Exist parameters\n",
    "Ma = ((2/(ga-1))*(((Pt/Patm)**((ga-1)/ga))-1))**0.5\n",
    "\n",
    "Ae = (1/Ma)*((2/(ga+1))*(1+((ga-1)/2)*Ma**2))**((ga+1)/(2*(ga-1)))*At\n",
    "\n",
    "De = (4*Ae/np.pi)**0.5\n",
    "\n",
    "print(f'Mach Number at Throat={Ma:.3f}, Exit Area={Ae:.3e} m^2, Exit Diameter={De:.3e} m^2')"
   ],
   "outputs": [
    {
     "output_type": "stream",
     "name": "stdout",
     "text": [
      "Mach Number at Throat=2.205, Exit Area=3.415e-03 m^2, Exit Diameter=6.594e-02 m^2\n"
     ]
    }
   ],
   "metadata": {}
  },
  {
   "cell_type": "code",
   "execution_count": 34,
   "source": [
    "# Assume L is approx. 1.5 m , Dc = 5Dt , & Vconver = (1/10)Vc\n",
    "L = 1.5\n",
    "Dc = 5*Dt\n",
    "\n",
    "Ac = Dc**2*np.pi/4\n",
    "\n",
    "Vc = L*At\n",
    "\n",
    "Lc = Vc/(1.1*Ac)\n",
    "\n",
    "print(f'Combustion Chamber Surface Area={Ac:.3e} m^2, Combustion Chamber Volume={Vc:.3e} m^3, Characteristic Length of Combustion Chamber={Lc:.3e} m')"
   ],
   "outputs": [
    {
     "output_type": "stream",
     "name": "stdout",
     "text": [
      "Combustion Chamber Surface Area=4.239e-02 m^2, Combustion Chamber Volume=2.543e-03 m^3, Characteristic Length of Combustion Chamber=5.455e-02 m\n"
     ]
    }
   ],
   "metadata": {}
  },
  {
   "cell_type": "code",
   "execution_count": 35,
   "source": [
    "# thickness of the throat and chamber\n",
    "# Assume stress (s) is 55000 KPa\n",
    "s = 55000\n",
    "tt = (Pt*Dt)/(2*s)\n",
    "\n",
    "tc = (Pc*Dc)/(2*s)\n",
    "\n",
    "As = (np.pi*(Dc+2*tc)*Lc)*1.1\n",
    "\n",
    "print(f'Throat Wall Thickness={tt:.3e} m, Combustion Chamber Wall Thickness={tc:.3e} m, As={As:.3e}')"
   ],
   "outputs": [
    {
     "output_type": "stream",
     "name": "stdout",
     "text": [
      "Throat Wall Thickness=4.615e-04 m, Combustion Chamber Wall Thickness=4.368e-03 m, As=4.544e-02\n"
     ]
    }
   ],
   "metadata": {}
  },
  {
   "cell_type": "code",
   "execution_count": 36,
   "source": [
    "# Thermal design (DN)"
   ],
   "outputs": [],
   "metadata": {}
  },
  {
   "cell_type": "code",
   "execution_count": 37,
   "source": [
    "# Injector for the fuel and oxygen\n",
    "# assume orifice discharge coeff. density under nominal conditions and the pressure drop is 689 KPa \n",
    "Cd = 0.7\n",
    "p = 769\n",
    "Pf = 689\n",
    "Af = wf/(Cd*(2*g*p*Pf)**0.5)\n",
    "\n",
    "Df = (4*Af/np.pi)**0.5\n",
    "\n",
    "# density of oxygen at 300 psi\n",
    "po = 1.33*(2068/Patm)\n",
    "\n",
    "# assume velocity of gas stream is approx. 88m/s\n",
    "vo = 88\n",
    "Ao = wo/(po*vo)\n",
    "Do = (4*Ao/np.pi)**0.5\n",
    "\n",
    "print(f'Fuel Injection Area={Af:.3e} m^2,Fuel Injection Diameter={Df:.3e} m, Oxidizer Injection Area={Ao:.3e} m^2, Oxidizer Injection Diameter={Do:.3e} m')"
   ],
   "outputs": [
    {
     "output_type": "stream",
     "name": "stdout",
     "text": [
      "Fuel Injection Area=4.662e-05 m^2,Fuel Injection Diameter=7.705e-03 m, Oxidizer Injection Area=6.609e-05 m^2, Oxidizer Injection Diameter=9.173e-03 m\n"
     ]
    }
   ],
   "metadata": {}
  },
  {
   "cell_type": "code",
   "execution_count": null,
   "source": [],
   "outputs": [],
   "metadata": {}
  }
 ],
 "metadata": {
  "kernelspec": {
   "name": "python3",
   "display_name": "Python 3.8.10 64-bit"
  },
  "language_info": {
   "name": "python",
   "version": "3.8.10",
   "mimetype": "text/x-python",
   "codemirror_mode": {
    "name": "ipython",
    "version": 3
   },
   "pygments_lexer": "ipython3",
   "nbconvert_exporter": "python",
   "file_extension": ".py"
  },
  "interpreter": {
   "hash": "916dbcbb3f70747c44a77c7bcd40155683ae19c65e1c03b4aa3499c5328201f1"
  }
 },
 "nbformat": 4,
 "nbformat_minor": 5
}