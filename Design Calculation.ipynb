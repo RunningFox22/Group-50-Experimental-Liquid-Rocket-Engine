{
 "cells": [
  {
   "cell_type": "code",
   "execution_count": 1,
   "id": "77aeeb79",
   "metadata": {},
   "outputs": [],
   "source": [
    "import numpy as np"
   ]
  },
  {
   "cell_type": "markdown",
   "id": "81c0cc92",
   "metadata": {},
   "source": [
    "Target:\n",
    "- F$\\Delta$t = 1280 N*s"
   ]
  },
  {
   "cell_type": "markdown",
   "id": "322557ae",
   "metadata": {},
   "source": [
    "Propellant:\n",
    "- Methyl alcohol (CH3OH) + Oxygen Gas (O2)\n",
    "- 2CH3OH(l) + 3O2(g) → 2CO2(g) + 4H2O(l)"
   ]
  },
  {
   "cell_type": "markdown",
   "id": "017b01eb",
   "metadata": {},
   "source": [
    "Constants:"
   ]
  },
  {
   "cell_type": "code",
   "execution_count": 2,
   "id": "074d90c0",
   "metadata": {},
   "outputs": [],
   "source": [
    "# Universal gas constant [J*kp/K]\n",
    "Ru = 8.314 \n",
    "# Molecular weight of Methyl Alcohol [Kg/Mol]\n",
    "M = 32\n",
    "# Gravity [m/s^2]\n",
    "g = 9.81\n",
    "# gamma for ideal gas (Cp/Cv)\n",
    "ga = 1.4"
   ]
  },
  {
   "cell_type": "markdown",
   "id": "e70a3626",
   "metadata": {},
   "source": [
    "Assumes/Input parameters:"
   ]
  },
  {
   "cell_type": "code",
   "execution_count": 3,
   "id": "6291822d",
   "metadata": {},
   "outputs": [],
   "source": [
    "# Mixture ratio (O/F) \n",
    "r = 1.5\n",
    "# Thrust [N]  \n",
    "F = 640 \n",
    "# Specific impulse [sec]\n",
    "Isp = 248 \n",
    "# Chamber Pressure [kPa]\n",
    "Pc = 2068 \n",
    "# Specific constant [J*kp/K]\n",
    "Rs = 0.259 \n",
    "# Chamber temperature [K]\n",
    "Tc = 3155.4 \n",
    "# Atmosphere pressure [kPa]\n",
    "Patm = 101.35"
   ]
  },
  {
   "cell_type": "markdown",
   "id": "c7760c23-57ad-467b-a1ed-35648877cbdf",
   "metadata": {},
   "source": [
    "Scaling factor\n",
    "- The example rocket motor only have a thurst of approximately 89 Newton, but its mixture ratio and Isp is 2.5 and 260"
   ]
  },
  {
   "cell_type": "code",
   "execution_count": 13,
   "id": "60989cb6",
   "metadata": {},
   "outputs": [
    {
     "name": "stdout",
     "output_type": "stream",
     "text": [
      "total mass flow rate=2.631e-01 kg/s, fuel flow rate=1.052e-01 kg/s, oxidizer flow rate=1.578e-01 kg/s\n",
      "0.26306270757291766 0.10522508302916707 0.1578376245437506\n"
     ]
    }
   ],
   "source": [
    "# The total propellant flow rate [kg/s]\n",
    "w = (F/Isp)/g\n",
    "\n",
    "# Fuel flow rate\n",
    "wf = w/(r+1)\n",
    "\n",
    "# Oxygen flow rate\n",
    "wo = w - wf\n",
    "\n",
    "print(f'total mass flow rate={w:.3e} kg/s, fuel flow rate={wf:.3e} kg/s, oxidizer flow rate={wo:.3e} kg/s')\n",
    "print(w,wf,wo)"
   ]
  },
  {
   "cell_type": "code",
   "execution_count": 10,
   "id": "a6a7ccc9",
   "metadata": {},
   "outputs": [
    {
     "name": "stdout",
     "output_type": "stream",
     "text": [
      "Throat Temperature=2.630e+03 K, Throat Pessure=1.092e+03 kPa, Throat Area=1.696e-03 m^2, Throat Diameter=4.646e-02 m\n",
      "0.04646442740957841\n"
     ]
    }
   ],
   "source": [
    "# Nozzel parameters\n",
    "Tt = Tc * (1/(1+((ga-1)/2)))\n",
    "                 \n",
    "Pt = Pc * ((1+((ga-1)/2))**(-ga/(ga-1)))\n",
    "                               \n",
    "# in meters\n",
    "At = (w/Pt)*np.sqrt( (Rs*Tt)/(ga*g) )\n",
    "\n",
    "Dt = np.sqrt(4*At/np.pi)\n",
    "\n",
    "print(f'Throat Temperature={Tt:.3e} K, Throat Pessure={Pt:.3e} kPa, Throat Area={At:.3e} m^2, Throat Diameter={Dt:.3e} m')\n",
    "print(Dt)"
   ]
  },
  {
   "cell_type": "code",
   "execution_count": 9,
   "id": "2954823a",
   "metadata": {},
   "outputs": [
    {
     "name": "stdout",
     "output_type": "stream",
     "text": [
      "Mach Number at Throat=2.205, Exit Area=3.415e-03 m^2, Exit Diameter=6.594e-02 m^2\n",
      "0.06594299413162195\n"
     ]
    }
   ],
   "source": [
    "# Exist parameters\n",
    "Ma = ((2/(ga-1))*(((Pt/Patm)**((ga-1)/ga))-1))**0.5\n",
    "\n",
    "Ae = (1/Ma)*((2/(ga+1))*(1+((ga-1)/2)*Ma**2))**((ga+1)/(2*(ga-1)))*At\n",
    "\n",
    "De = (4*Ae/np.pi)**0.5\n",
    "\n",
    "print(f'Mach Number at Throat={Ma:.3f}, Exit Area={Ae:.3e} m^2, Exit Diameter={De:.3e} m^2')\n",
    "print(De)"
   ]
  },
  {
   "cell_type": "code",
   "execution_count": 17,
   "id": "6b7fd0ef",
   "metadata": {},
   "outputs": [
    {
     "name": "stdout",
     "output_type": "stream",
     "text": [
      "Combustion Chamber Surface Area=4.239e-02 m^2, Combustion Chamber Volume=2.543e-03 m^3, Characteristic Length of Combustion Chamber=5.455e-02 m\n",
      "0.23232213704789204 0.05454545454545454\n"
     ]
    }
   ],
   "source": [
    "# Assume the characteristic chamber length (L) is approx. 1.5 m , Dc = 5Dt , & Vconver = (1/10)Vc\n",
    "L = 1.5\n",
    "Dc = 5*Dt\n",
    "\n",
    "Ac = ((Dc**2)*np.pi)/4\n",
    "\n",
    "Vc = L*At\n",
    "\n",
    "Lc = Vc/(1.1*Ac)\n",
    "\n",
    "print(f'Combustion Chamber Surface Area={Ac:.3e} m^2, Combustion Chamber Volume={Vc:.3e} m^3, Characteristic Length of Combustion Chamber={Lc:.3e} m')\n",
    "print(Dc,Lc)"
   ]
  },
  {
   "cell_type": "code",
   "execution_count": 35,
   "id": "45864315",
   "metadata": {},
   "outputs": [
    {
     "name": "stdout",
     "output_type": "stream",
     "text": [
      "Throat Wall Thickness=4.615e-04 m, Combustion Chamber Wall Thickness=4.368e-03 m, As=4.544e-02\n"
     ]
    }
   ],
   "source": [
    "# thickness of the throat and chamber\n",
    "# Assume stress (s) is 55000 KPa\n",
    "s = 55000\n",
    "tt = (Pt*Dt)/(2*s)\n",
    "\n",
    "tc = (Pc*Dc)/(2*s)\n",
    "\n",
    "As = (np.pi*(Dc+2*tc)*Lc)*1.1\n",
    "\n",
    "print(f'Throat Wall Thickness={tt:.3e} m, Combustion Chamber Wall Thickness={tc:.3e} m, As={As:.3e}')"
   ]
  },
  {
   "cell_type": "code",
   "execution_count": 11,
   "id": "fbc65287",
   "metadata": {},
   "outputs": [
    {
     "name": "stdout",
     "output_type": "stream",
     "text": [
      "0.7298615190159388\n"
     ]
    }
   ],
   "source": [
    "# Thermal design (DN)\n",
    "# Q: Total heat transfer\n",
    "# Assume an average heat transfer rate q = 3 BTU/in^2*sec = 4906019.53 Watt/m^2 which was determined experimentally \n",
    "# Assume we have 1m copper pipe cut in half and wrapped around the rocket motor\n",
    "# Area of heat transfer can be represented by an area of a rectangle area\n",
    "Cc = 2*np.pi*(Dc/2)\n",
    "\n",
    "\n",
    "#q = 4906019.53\n",
    "\n",
    "#A = 2 * \n",
    "#Q = q*A\n",
    "print(Cc)"
   ]
  },
  {
   "cell_type": "code",
   "execution_count": 37,
   "id": "049fd5b7",
   "metadata": {},
   "outputs": [
    {
     "name": "stdout",
     "output_type": "stream",
     "text": [
      "Fuel Injection Area=4.662e-05 m^2,Fuel Injection Diameter=7.705e-03 m, Oxidizer Injection Area=6.609e-05 m^2, Oxidizer Injection Diameter=9.173e-03 m\n"
     ]
    }
   ],
   "source": [
    "# Injector for the fuel and oxygen\n",
    "# assume orifice discharge coeff. density under nominal conditions and the pressure drop is 689 KPa \n",
    "Cd = 0.7\n",
    "p = 769\n",
    "Pf = 689\n",
    "Af = wf/(Cd*(2*g*p*Pf)**0.5)\n",
    "\n",
    "Df = (4*Af/np.pi)**0.5\n",
    "\n",
    "# density of oxygen at 300 psi\n",
    "po = 1.33*(2068/Patm)\n",
    "\n",
    "# assume velocity of gas stream is approx. 88m/s\n",
    "vo = 88\n",
    "Ao = wo/(po*vo)\n",
    "Do = (4*Ao/np.pi)**0.5\n",
    "\n",
    "print(f'Fuel Injection Area={Af:.3e} m^2,Fuel Injection Diameter={Df:.3e} m, Oxidizer Injection Area={Ao:.3e} m^2, Oxidizer Injection Diameter={Do:.3e} m')"
   ]
  },
  {
   "cell_type": "code",
   "execution_count": null,
   "id": "3d7feebc",
   "metadata": {},
   "outputs": [],
   "source": []
  }
 ],
 "metadata": {
  "interpreter": {
   "hash": "916dbcbb3f70747c44a77c7bcd40155683ae19c65e1c03b4aa3499c5328201f1"
  },
  "kernelspec": {
   "display_name": "Python 3",
   "language": "python",
   "name": "python3"
  },
  "language_info": {
   "codemirror_mode": {
    "name": "ipython",
    "version": 3
   },
   "file_extension": ".py",
   "mimetype": "text/x-python",
   "name": "python",
   "nbconvert_exporter": "python",
   "pygments_lexer": "ipython3",
   "version": "3.8.8"
  }
 },
 "nbformat": 4,
 "nbformat_minor": 5
}
