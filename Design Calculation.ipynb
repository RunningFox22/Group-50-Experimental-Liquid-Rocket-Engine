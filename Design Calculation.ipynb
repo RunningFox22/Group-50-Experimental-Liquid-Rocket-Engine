{
 "cells": [
  {
   "cell_type": "code",
   "execution_count": 1,
   "metadata": {},
   "outputs": [],
   "source": [
    "import numpy as np"
   ]
  },
  {
   "cell_type": "markdown",
   "metadata": {},
   "source": [
    "Target:\n",
    "- F$\\Delta$t = 1280 N*s"
   ]
  },
  {
   "cell_type": "markdown",
   "metadata": {},
   "source": [
    "Propellant:\n",
    "- Methyl alcohol (CH3OH) + Oxygen Gas (O2)\n",
    "- 2CH3OH(l) + 3O2(g) → 2CO2(g) + 4H2O(l)"
   ]
  },
  {
   "cell_type": "markdown",
   "metadata": {},
   "source": [
    "Constants:"
   ]
  },
  {
   "cell_type": "code",
   "execution_count": 2,
   "metadata": {},
   "outputs": [],
   "source": [
    "# Universal gas constant [J*kp/K]\n",
    "Ru = 8.314 \n",
    "# Molecular weight of Ethanol [kg/Mol]\n",
    "M = 44E-3\n",
    "# Gravity [m/s^2]\n",
    "g = 9.81\n",
    "# gamma for ideal gas (Cp/Cv)\n",
    "ga = 1.226995"
   ]
  },
  {
   "cell_type": "markdown",
   "metadata": {},
   "source": [
    "Assumes/Input parameters:"
   ]
  },
  {
   "cell_type": "code",
   "execution_count": 3,
   "metadata": {},
   "outputs": [],
   "source": [
    "# Mixture ratio (O/F) \n",
    "r = 7.25\n",
    "# Thrust [N]  \n",
    "F = 640 \n",
    "# Specific impulse [sec]\n",
    "Isp = 259.05\n",
    "# Chamber Pressure [Pa]\n",
    "Pc = 10.5E5\n",
    "# Specific constant [J*kp/K]\n",
    "Rs = Ru/M\n",
    "# Chamber temperature [K]\n",
    "Tc = 3164.004217\n",
    "# Atmosphere pressure [Pa]\n",
    "Patm = 101325"
   ]
  },
  {
   "cell_type": "code",
   "execution_count": 4,
   "metadata": {},
   "outputs": [
    {
     "name": "stdout",
     "output_type": "stream",
     "text": [
      "total mass flow rate=2.518e-01 kg/s, fuel flow rate=3.053e-02 kg/s, oxidizer flow rate=2.213e-01 kg/s\n"
     ]
    }
   ],
   "source": [
    "# The total propellant flow rate [kg/s]\n",
    "w = (F/Isp)/g\n",
    "\n",
    "# Fuel flow rate\n",
    "wf = w/(r+1)\n",
    "\n",
    "# Oxygen flow rate\n",
    "wo = w - wf\n",
    "\n",
    "print(f'total mass flow rate={w:.3e} kg/s, fuel flow rate={wf:.3e} kg/s, oxidizer flow rate={wo:.3e} kg/s')"
   ]
  },
  {
   "cell_type": "code",
   "execution_count": 5,
   "metadata": {},
   "outputs": [
    {
     "name": "stdout",
     "output_type": "stream",
     "text": [
      "Throat Temperature=2.842e+03 K, Throat Pessure=5.872e+05 kPa, Throat Area=9.057e-05 m^2, Throat Diameter=1.074e-02 m\n"
     ]
    }
   ],
   "source": [
    "# Nozzel parameters\n",
    "Tt = Tc * (1/(1+((ga-1)/2)))\n",
    "                 \n",
    "Pt = Pc * ((1+((ga-1)/2))**(-ga/(ga-1)))\n",
    "                               \n",
    "# in meters\n",
    "At = (w/Pt)*np.sqrt( (Rs*Tt)/(ga*g) )\n",
    "\n",
    "Dt = np.sqrt(4*At/np.pi)\n",
    "\n",
    "print(f'Throat Temperature={Tt:.3e} K, Throat Pessure={Pt:.3e} kPa, Throat Area={At:.3e} m^2, Throat Diameter={Dt:.3e} m')"
   ]
  },
  {
   "cell_type": "code",
   "execution_count": 6,
   "metadata": {},
   "outputs": [
    {
     "name": "stdout",
     "output_type": "stream",
     "text": [
      "Mach Number at Throat=1.840, Exit Area=1.431e-04 m^2, Exit Diameter=1.350e-02 m^2\n"
     ]
    }
   ],
   "source": [
    "# Exist parameters\n",
    "Ma = ((2/(ga-1))*(((Pt/Patm)**((ga-1)/ga))-1))**0.5\n",
    "\n",
    "Ae = (1/Ma)*((2/(ga+1))*(1+((ga-1)/2)*Ma**2))**((ga+1)/(2*(ga-1)))*At\n",
    "\n",
    "De = (4*Ae/np.pi)**0.5\n",
    "\n",
    "print(f'Mach Number at Throat={Ma:.3f}, Exit Area={Ae:.3e} m^2, Exit Diameter={De:.3e} m^2')"
   ]
  },
  {
   "cell_type": "code",
   "execution_count": 7,
   "metadata": {},
   "outputs": [
    {
     "name": "stdout",
     "output_type": "stream",
     "text": [
      "Combustion Chamber Surface Area=2.264e-03 m^2, Combustion Chamber Volume=1.359e-04 m^3, Characteristic Length of Combustion Chamber=5.455e-02 m\n"
     ]
    }
   ],
   "source": [
    "# Assume L is approx. 1.5 m , Dc = 5Dt , & Vconver = (1/10)Vc\n",
    "L = 1.5\n",
    "Dc = 5*Dt\n",
    "\n",
    "Ac = Dc**2*np.pi/4\n",
    "\n",
    "Vc = L*At\n",
    "\n",
    "Lc = Vc/(1.1*Ac)\n",
    "\n",
    "print(f'Combustion Chamber Surface Area={Ac:.3e} m^2, Combustion Chamber Volume={Vc:.3e} m^3, Characteristic Length of Combustion Chamber={Lc:.3e} m')"
   ]
  },
  {
   "cell_type": "code",
   "execution_count": 8,
   "metadata": {},
   "outputs": [
    {
     "name": "stdout",
     "output_type": "stream",
     "text": [
      "Throat Wall Thickness=5.733e-02 m, Combustion Chamber Wall Thickness=5.125e-01 m, As=2.033e-01\n"
     ]
    }
   ],
   "source": [
    "# thickness of the throat and chamber\n",
    "# Assume stress (s) is 55000 KPa\n",
    "s = 55000\n",
    "tt = (Pt*Dt)/(2*s)\n",
    "\n",
    "tc = (Pc*Dc)/(2*s)\n",
    "\n",
    "As = (np.pi*(Dc+2*tc)*Lc)*1.1\n",
    "\n",
    "print(f'Throat Wall Thickness={tt:.3e} m, Combustion Chamber Wall Thickness={tc:.3e} m, As={As:.3e}')"
   ]
  },
  {
   "cell_type": "code",
   "execution_count": 9,
   "metadata": {},
   "outputs": [],
   "source": [
    "# Thermal design (DN)"
   ]
  },
  {
   "cell_type": "code",
   "execution_count": 10,
   "metadata": {},
   "outputs": [
    {
     "name": "stdout",
     "output_type": "stream",
     "text": [
      "Fuel Injection Area=1.353e-05 m^2,Fuel Injection Diameter=4.150e-03 m, Oxidizer Injection Area=9.265e-02 m^2, Oxidizer Injection Diameter=3.435e-01 m\n"
     ]
    }
   ],
   "source": [
    "# Injector for the fuel and oxygen\n",
    "# assume orifice discharge coeff. density under nominal conditions and the pressure drop is 689 KPa \n",
    "Cd = 0.7\n",
    "p = 769\n",
    "Pf = 689\n",
    "Af = wf/(Cd*(2*g*p*Pf)**0.5)\n",
    "\n",
    "Df = (4*Af/np.pi)**0.5\n",
    "\n",
    "# density of oxygen at 300 psi\n",
    "po = 1.33*(2068/Patm)\n",
    "\n",
    "# assume velocity of gas stream is approx. 88m/s\n",
    "vo = 88\n",
    "Ao = wo/(po*vo)\n",
    "Do = (4*Ao/np.pi)**0.5\n",
    "\n",
    "print(f'Fuel Injection Area={Af:.3e} m^2,Fuel Injection Diameter={Df:.3e} m, Oxidizer Injection Area={Ao:.3e} m^2, Oxidizer Injection Diameter={Do:.3e} m')"
   ]
  },
  {
   "cell_type": "code",
   "execution_count": null,
   "metadata": {},
   "outputs": [],
   "source": []
  }
 ],
 "metadata": {
  "interpreter": {
   "hash": "916dbcbb3f70747c44a77c7bcd40155683ae19c65e1c03b4aa3499c5328201f1"
  },
  "kernelspec": {
   "display_name": "Python 3.8.10 64-bit",
   "name": "python3"
  },
  "language_info": {
   "codemirror_mode": {
    "name": "ipython",
    "version": 3
   },
   "file_extension": ".py",
   "mimetype": "text/x-python",
   "name": "python",
   "nbconvert_exporter": "python",
   "pygments_lexer": "ipython3",
   "version": "3.8.10"
  }
 },
 "nbformat": 4,
 "nbformat_minor": 5
}
