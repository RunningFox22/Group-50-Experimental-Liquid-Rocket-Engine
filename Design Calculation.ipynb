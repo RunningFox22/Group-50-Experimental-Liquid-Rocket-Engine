{
 "cells": [
  {
   "cell_type": "code",
   "execution_count": 1,
   "id": "77aeeb79",
   "metadata": {},
   "outputs": [],
   "source": [
    "import numpy as np"
   ]
  },
  {
   "cell_type": "markdown",
   "id": "81c0cc92",
   "metadata": {},
   "source": [
    "Target:\n",
    "- F$\\Delta$t = 1280 N*s"
   ]
  },
  {
   "cell_type": "markdown",
   "id": "322557ae",
   "metadata": {},
   "source": [
    "Propellant:\n",
    "- Methyl alcohol (CH3OH) + Oxygen Gas (O2)\n",
    "- 2CH3OH(l) + 3O2(g) → 2CO2(g) + 4H2O(l)"
   ]
  },
  {
   "cell_type": "markdown",
   "id": "017b01eb",
   "metadata": {},
   "source": [
    "Constants:"
   ]
  },
  {
   "cell_type": "code",
   "execution_count": 2,
   "id": "074d90c0",
   "metadata": {},
   "outputs": [],
   "source": [
    "# Universal gas constant [J*kp/K]\n",
    "Ru = 8.314 \n",
    "# Molecular weight of Methyl Alcohol [Kg/Mol]\n",
    "M = 32\n",
    "# Gravity [m/s^2]\n",
    "g = 9.81\n",
    "# gamma for ideal gas (Cp/Cv)\n",
    "ga = 1.4"
   ]
  },
  {
   "cell_type": "markdown",
   "id": "fa1e313f-2fd4-4c9e-aa80-5826ee1a0dff",
   "metadata": {},
   "source": [
    "Gamma (ga) is the ratio of specific gas heats\n",
    "\n",
    "Gamma is about 1.2 for the products of combustion of gaseous oxygen and hydrocarbon fuel.\n",
    "\n",
    "References to the analyze notebook for the reaction calculations"
   ]
  },
  {
   "cell_type": "markdown",
   "id": "e70a3626",
   "metadata": {},
   "source": [
    "Assumes/Input parameters:"
   ]
  },
  {
   "cell_type": "code",
   "execution_count": 3,
   "id": "6291822d",
   "metadata": {},
   "outputs": [],
   "source": [
    "# Mixture ratio (O/F) \n",
    "r = 1.5\n",
    "# Thrust [N]  \n",
    "F = 640 \n",
    "# Specific impulse [sec]\n",
    "Isp = 248 \n",
    "# Chamber Pressure [kPa]\n",
    "Pc = 2068 \n",
    "# Specific constant [J*kp/K]\n",
    "Rs = 0.259 \n",
    "# Chamber temperature [K]\n",
    "Tc = 3155.4 \n",
    "# Atmosphere pressure [kPa]\n",
    "Patm = 101.35"
   ]
  },
  {
   "cell_type": "code",
   "execution_count": 5,
   "id": "60989cb6",
   "metadata": {},
   "outputs": [
    {
     "name": "stdout",
     "output_type": "stream",
     "text": [
      "total mass flow rate=2.581e+00 kg/s, fuel flow rate=1.032e+00 kg/s, oxidizer flow rate=1.548e+00 kg/s\n"
     ]
    }
   ],
   "source": [
    "# The total propellant flow rate [kg/s]\n",
    "w = (F/Isp)/10\n",
    "\n",
    "# Fuel flow rate\n",
    "wf = w/(r+1)\n",
    "\n",
    "# Oxygen flow rate\n",
    "wo = w - wf\n",
    "\n",
    "print(f'total mass flow rate={w:.3e} kg/s, fuel flow rate={wf:.3e} kg/s, oxidizer flow rate={wo:.3e} kg/s')"
   ]
  },
  {
   "cell_type": "code",
   "execution_count": 7,
   "id": "a6a7ccc9",
   "metadata": {},
   "outputs": [
    {
     "name": "stdout",
     "output_type": "stream",
     "text": [
      "Throat Temperature=2.630e+03 K, Throat Pessure=1.092e+03 kPa, Throat Area=1.663e-02 m^2, Throat Diameter=1.455e-01 m\n"
     ]
    }
   ],
   "source": [
    "# Nozzel parameters\n",
    "Tt = Tc * (1/(1+((ga-1)/2)))\n",
    "                 \n",
    "Pt = Pc * ((1+((ga-1)/2))**(-ga/(ga-1)))\n",
    "                               \n",
    "# in meters\n",
    "At = (w/Pt)*np.sqrt( (Rs*Tt)/(ga*g) )\n",
    "\n",
    "Dt = np.sqrt(4*At/np.pi)\n",
    "\n",
    "print(f'Throat Temperature={Tt:.3e} K, Throat Pessure={Pt:.3e} kPa, Throat Area={At:.3e} m^2, Throat Diameter={Dt:.3e} m')"
   ]
  },
  {
   "cell_type": "markdown",
   "id": "7e034d01-9149-48c8-8644-365ef4fc7bd6",
   "metadata": {},
   "source": [
    "Reference: https://ideaexchange.uakron.edu/cgi/viewcontent.cgi?referer=&httpsredir=1&article=1124&context=honors_research_projects\n",
    "\n",
    "The area of the throat can determine the pressure of the chamber and if the area of the throat is too small then it would cause the pressure to increase, leading to a high stress around the throat and chamber which could cause failure in the engine \n",
    "\n",
    "One can easily plot 𝐴𝑒/𝐴∗, 𝐷𝑒, and 𝑃𝑜 versus 𝐴𝑡 to come up with a good design. An example problem demonstrating this procedure\n",
    "starts on page 22."
   ]
  },
  {
   "cell_type": "code",
   "execution_count": 8,
   "id": "2954823a",
   "metadata": {},
   "outputs": [
    {
     "name": "stdout",
     "output_type": "stream",
     "text": [
      "Mach Number at Throat=2.205, Exit Area=3.350e-02 m^2, Exit Diameter=2.065e-01 m^2\n"
     ]
    }
   ],
   "source": [
    "# Exit parameters\n",
    "# Reference for exit velocity\n",
    "Ma = ((2/(ga-1))*(((Pt/Patm)**((ga-1)/ga))-1))**0.5\n",
    "\n",
    "Ae = (1/Ma)*((2/(ga+1))*(1+((ga-1)/2)*Ma**2))**((ga+1)/(2*(ga-1)))*At\n",
    "\n",
    "De = (4*Ae/np.pi)**0.5\n",
    "\n",
    "Ma_exit = \n",
    "\n",
    "print(f'Mach Number at Throat={Ma:.3f}, Exit Area={Ae:.3e} m^2, Exit Diameter={De:.3e} m^2')"
   ]
  },
  {
   "cell_type": "code",
   "execution_count": 11,
   "id": "6b7fd0ef",
   "metadata": {},
   "outputs": [
    {
     "name": "stdout",
     "output_type": "stream",
     "text": [
      "Combustion Chamber Surface Area=4.159e-01 m^2, Combustion Chamber Volume=2.495e-02 m^3, Length of Combustion Chamber=5.455e-02 m\n",
      "0.7276542958755349 0.05454545454545456\n"
     ]
    }
   ],
   "source": [
    "# Assume the characteristic chamber length (L) is approx. 1.5 m , Dc = 5Dt , & Vconver = (1/10)Vc\n",
    "L = 1.5\n",
    "Dc = 5*Dt\n",
    "\n",
    "Ac = ((Dc**2)*np.pi)/4\n",
    "\n",
    "Vc = L*At\n",
    "\n",
    "Lc = Vc/(1.1*Ac)\n",
    "\n",
    "print(f'Combustion Chamber Surface Area={Ac:.3e} m^2, Combustion Chamber Volume={Vc:.3e} m^3, Length of Combustion Chamber={Lc:.3e} m')\n",
    "print(Dc,Lc)"
   ]
  },
  {
   "cell_type": "code",
   "execution_count": 9,
   "id": "45864315",
   "metadata": {},
   "outputs": [
    {
     "name": "stdout",
     "output_type": "stream",
     "text": [
      "Throat Wall Thickness=4.615e-04 m, Combustion Chamber Wall Thickness=2.621e-03 m, As=7.573e-02\n"
     ]
    }
   ],
   "source": [
    "# thickness of the throat and chamber\n",
    "# Assume stress (s) is 55000 KPa\n",
    "s = 55000\n",
    "tt = (Pt*Dt)/(2*s)\n",
    "\n",
    "tc = (Pc*Dc)/(2*s)\n",
    "\n",
    "As = (np.pi*(Dc+2*tc)*Lc)*1.1\n",
    "\n",
    "print(f'Throat Wall Thickness={tt:.3e} m, Combustion Chamber Wall Thickness={tc:.3e} m, As={As:.3e}')"
   ]
  },
  {
   "cell_type": "code",
   "execution_count": 11,
   "id": "fbc65287",
   "metadata": {},
   "outputs": [
    {
     "name": "stdout",
     "output_type": "stream",
     "text": [
      "0.7298615190159388\n"
     ]
    }
   ],
   "source": [
    "# Thermal design (DN)\n",
    "# Q: Total heat transfer\n",
    "# Assume an average heat transfer rate q = 3 BTU/in^2*sec = 4906019.53 Watt/m^2 which was determined experimentally \n",
    "# Assume we have 1m copper pipe cut in half and wrapped around the rocket motor\n",
    "# Area of heat transfer can be represented by an area of a rectangle area\n",
    "Cc = 2*np.pi*(Dc/2)\n",
    "\n",
    "\n",
    "#q = 4906019.53\n",
    "\n",
    "#A = 2 * \n",
    "#Q = q*A\n",
    "print(Cc)"
   ]
  },
  {
   "cell_type": "code",
   "execution_count": 37,
   "id": "049fd5b7",
   "metadata": {},
   "outputs": [
    {
     "name": "stdout",
     "output_type": "stream",
     "text": [
      "Fuel Injection Area=4.662e-05 m^2,Fuel Injection Diameter=7.705e-03 m, Oxidizer Injection Area=6.609e-05 m^2, Oxidizer Injection Diameter=9.173e-03 m\n"
     ]
    }
   ],
   "source": [
    "# Injector for the fuel and oxygen\n",
    "# assume orifice discharge coeff. density under nominal conditions and the pressure drop is 689 KPa \n",
    "Cd = 0.7\n",
    "p = 769\n",
    "Pf = 689\n",
    "Af = wf/(Cd*(2*g*p*Pf)**0.5)\n",
    "\n",
    "Df = (4*Af/np.pi)**0.5\n",
    "\n",
    "# density of oxygen at 300 psi\n",
    "po = 1.33*(2068/Patm)\n",
    "\n",
    "# assume velocity of gas stream is approx. 88m/s\n",
    "vo = 88\n",
    "Ao = wo/(po*vo)\n",
    "Do = (4*Ao/np.pi)**0.5\n",
    "\n",
    "print(f'Fuel Injection Area={Af:.3e} m^2,Fuel Injection Diameter={Df:.3e} m, Oxidizer Injection Area={Ao:.3e} m^2, Oxidizer Injection Diameter={Do:.3e} m')"
   ]
  },
  {
   "cell_type": "markdown",
   "id": "7335e1c0-dfd5-41e9-9e00-4d5fe2afb1eb",
   "metadata": {},
   "source": [
    "We set a thrust for our rocket engine and didn't calculate for it. However, I also wanted to make sure that all of the relations that govern Thrust is being taken into consideration when we are doing our calculation. Another way of looking at this is we are validating the overall calculations in this design by putting a few of them together. \n",
    "\n",
    "From doing a few cross references and based on the calculation below, it seems that the governing relations for thrust is being corrected impleted in this calculations\n",
    "\n",
    "References:\n",
    "https://www.grc.nasa.gov/www/k-12/airplane/rktthsum.html\n",
    "https://ideaexchange.uakron.edu/cgi/viewcontent.cgi?referer=&httpsredir=1&article=1124&context=honors_research_projects\n",
    "http://www.braeunig.us/space/propuls.htm\n",
    "\n",
    "Both of the research articles cited the NASA thrust equation"
   ]
  },
  {
   "cell_type": "markdown",
   "id": "84ba3df4-27a2-4721-b4b7-fdc6ca63665c",
   "metadata": {},
   "source": [
    "references:\n",
    "http://www.braeunig.us/space/propuls.htm\n",
    "https://ideaexchange.uakron.edu/cgi/viewcontent.cgi?referer=&httpsredir=1&article=1124&context=honors_research_projects\n",
    "The thrust equation is taken from the references above described each variables as the following:\n",
    "\n",
    "Thrust = qVe+(Pe-Pa)Ae\n",
    "\n",
    "- where q is the rate of the ejected mass flow, Pa the pressure of the ambient atmosphere, Pe the pressure of the exhaust gases and Ve their ejection speed. Thrust is specified either at sea level or in a vacuum.\n",
    "\n",
    "- The thrust produced by a rocket engine is related to the exit velocity and flow rate of the exhaust gas (𝑣𝑒 and 𝑚̇), the pressure difference between the nozzle exit and the atmosphere 𝑃𝑒 − 𝑃𝑎𝑡𝑚, and the exit area of the nozzle 𝐴e.In practice, the 𝑃𝑒 − 𝑃𝑎𝑡𝑚 term is usually close to zero, and is exactly equal to zero if an ideal expansion ratio in the nozzle is achieved. The first term therefore dominates the generated thrust."
   ]
  },
  {
   "cell_type": "code",
   "execution_count": null,
   "id": "ec249df2-fec2-40c6-9464-ca8452e585c9",
   "metadata": {},
   "outputs": [],
   "source": [
    "Thrust = w*Ve+(Pe-Patm)*Ae"
   ]
  },
  {
   "cell_type": "markdown",
   "id": "8ac23b67-faf2-4465-9699-270a946e318c",
   "metadata": {},
   "source": [
    "https://ideaexchange.uakron.edu/cgi/viewcontent.cgi?referer=&httpsredir=1&article=1124&context=honors_research_projects\n",
    "This research article provide a more thorough calculations into the rocket motor design\n",
    "\n"
   ]
  }
 ],
 "metadata": {
  "interpreter": {
   "hash": "916dbcbb3f70747c44a77c7bcd40155683ae19c65e1c03b4aa3499c5328201f1"
  },
  "kernelspec": {
   "display_name": "Python 3",
   "language": "python",
   "name": "python3"
  },
  "language_info": {
   "codemirror_mode": {
    "name": "ipython",
    "version": 3
   },
   "file_extension": ".py",
   "mimetype": "text/x-python",
   "name": "python",
   "nbconvert_exporter": "python",
   "pygments_lexer": "ipython3",
   "version": "3.8.8"
  }
 },
 "nbformat": 4,
 "nbformat_minor": 5
}
