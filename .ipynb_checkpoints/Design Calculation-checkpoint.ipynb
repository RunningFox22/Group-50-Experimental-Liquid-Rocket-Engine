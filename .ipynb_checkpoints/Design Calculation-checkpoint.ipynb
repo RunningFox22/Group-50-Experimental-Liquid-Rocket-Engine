{
 "cells": [
  {
   "cell_type": "code",
   "execution_count": 2,
   "id": "f30c3338-592f-4ac5-a51c-d3e889a74a46",
   "metadata": {},
   "outputs": [],
   "source": [
    "import numpy as np"
   ]
  },
  {
   "cell_type": "markdown",
   "id": "da859343-25b3-4640-982d-26e6672ccc4d",
   "metadata": {},
   "source": [
    "Target:\n",
    "- F$\\Delta$t = 1280 N*s"
   ]
  },
  {
   "cell_type": "markdown",
   "id": "68201318-1cee-48b6-8c3f-32970b33faaf",
   "metadata": {},
   "source": [
    "Propellant:\n",
    "- Methyl alcohol (CH3OH) + Oxygen Gas (O2)\n",
    "- 2CH3OH(l) + 3O2(g) → 2CO2(g) + 4H2O(l)"
   ]
  },
  {
   "cell_type": "markdown",
   "id": "364c3842-ad54-4a9f-99b5-4ec636315414",
   "metadata": {},
   "source": [
    "Constants:"
   ]
  },
  {
   "cell_type": "code",
   "execution_count": 3,
   "id": "4e4ea698-94d2-4c4b-8abd-f3c4de59e036",
   "metadata": {},
   "outputs": [],
   "source": [
    "# Universal gas constant [J*kp/K]\n",
    "Ru = 8.314 \n",
    "# Molecular weight [Kg/Mol]\n",
    "M = 32\n",
    "# Gravity [m/s^2]\n",
    "g = 10\n",
    "# gamma for ideal gas\n",
    "ga = 1.4"
   ]
  },
  {
   "cell_type": "markdown",
   "id": "f4b98802-9bdd-4b0f-a4ad-0fe3efd27f33",
   "metadata": {},
   "source": [
    "Assumes/Input parameters:"
   ]
  },
  {
   "cell_type": "code",
   "execution_count": 4,
   "id": "366442ca-be72-4c68-9d4c-fdb3ddf4e6ed",
   "metadata": {},
   "outputs": [],
   "source": [
    "# Mixture ratio (O/F) \n",
    "r = 1.5\n",
    "# Thurst [N]  \n",
    "F = 640 \n",
    "# Specific impulse [sec]\n",
    "Isp = 248 \n",
    "# Chamber Pressure [KPa]\n",
    "Pc = 2068 \n",
    "# Specific constant [J*kp/K]\n",
    "Rs = 0.259 \n",
    "# Chamber temperature [K]\n",
    "Tc = 3155.4 \n",
    "# Atmosphere pressure\n",
    "Patm = 101.35"
   ]
  },
  {
   "cell_type": "code",
   "execution_count": 5,
   "id": "adb45d07-3440-48a5-aa53-4b0f4927c538",
   "metadata": {},
   "outputs": [
    {
     "name": "stdout",
     "output_type": "stream",
     "text": [
      "0.25806451612903225 0.1032258064516129 0.15483870967741936\n"
     ]
    }
   ],
   "source": [
    "# The total propellant flow rate [kg/s]\n",
    "w = (F/Isp)/g\n",
    "\n",
    "# Fuel flow rate\n",
    "wf = w/(r+1)\n",
    "\n",
    "# Oxygen flow rate\n",
    "wo = w - wf\n",
    "\n",
    "print(w,wf,wo)"
   ]
  },
  {
   "cell_type": "code",
   "execution_count": 6,
   "id": "a0149d4d-c9a5-4066-b0db-884add1e3395",
   "metadata": {},
   "outputs": [
    {
     "name": "stdout",
     "output_type": "stream",
     "text": [
      "2629.5 1092.4867369991161 0.001647534704950711 0.04580072420461083\n"
     ]
    }
   ],
   "source": [
    "# Nozzel parameters\n",
    "Tt = Tc * (1/(1+((ga-1)/2)))\n",
    "                 \n",
    "Pt = Pc * ((1+((ga-1)/2))**(-ga/(ga-1)))\n",
    "                               \n",
    "# in meters\n",
    "At = (w/Pt)*((Rs*Tt)/(ga*g))**0.5\n",
    "\n",
    "Dt = (4*At/np.pi)**0.5\n",
    "\n",
    "print(Tt,Pt,At,Dt)"
   ]
  },
  {
   "cell_type": "code",
   "execution_count": 7,
   "id": "df0fd563-2f3f-46f1-8c91-14bf0df5e6fd",
   "metadata": {},
   "outputs": [
    {
     "name": "stdout",
     "output_type": "stream",
     "text": [
      "2.205156078519267 0.0033184151472492505 0.06500105684776136\n"
     ]
    }
   ],
   "source": [
    "# Exist parameters\n",
    "Ma = ((2/(ga-1))*(((Pt/Patm)**((ga-1)/ga))-1))**0.5\n",
    "\n",
    "Ae = (1/Ma)*((2/(ga+1))*(1+((ga-1)/2)*Ma**2))**((ga+1)/(2*(ga-1)))*At\n",
    "\n",
    "De = (4*Ae/np.pi)**0.5\n",
    "\n",
    "print(Ma,Ae,De)"
   ]
  },
  {
   "cell_type": "code",
   "execution_count": 8,
   "id": "48139e92-ea79-4c0e-9f1b-fde8923e6a37",
   "metadata": {},
   "outputs": [
    {
     "name": "stdout",
     "output_type": "stream",
     "text": [
      "0.041188367623767784 0.0024713020574260664 0.05454545454545453\n"
     ]
    }
   ],
   "source": [
    "# Assume L is approx. 1.5 m , Dc = 5Dt , & Vconver = (1/10)Vc\n",
    "L = 1.5\n",
    "Dc = 5*Dt\n",
    "\n",
    "Ac = Dc**2*np.pi/4\n",
    "\n",
    "Vc = L*At\n",
    "\n",
    "Lc = Vc/(1.1*Ac)\n",
    "\n",
    "print(Ac,Vc,Lc)"
   ]
  },
  {
   "cell_type": "code",
   "execution_count": 9,
   "id": "f44d293e-6c12-4c88-abd6-623f9b884338",
   "metadata": {},
   "outputs": [
    {
     "name": "stdout",
     "output_type": "stream",
     "text": [
      "0.0004548789430771975 0.004305268075233419 0.04478921343391583\n"
     ]
    }
   ],
   "source": [
    "# thickness of the throat and chamber\n",
    "# Assume stress (s) is 55000 KPa\n",
    "s = 55000\n",
    "tt = (Pt*Dt)/(2*s)\n",
    "\n",
    "tc = (Pc*Dc)/(2*s)\n",
    "\n",
    "As = (np.pi*(Dc+2*tc)*Lc)*1.1\n",
    "\n",
    "print(tt,tc,As)"
   ]
  },
  {
   "cell_type": "code",
   "execution_count": 10,
   "id": "d4137ea6-6325-4be0-ac1f-7d5fd1ddefdb",
   "metadata": {},
   "outputs": [],
   "source": [
    "# Thermal design (DN)"
   ]
  },
  {
   "cell_type": "code",
   "execution_count": 11,
   "id": "c41c9f51-1015-4c82-b609-47d6ccfbab28",
   "metadata": {},
   "outputs": [
    {
     "name": "stdout",
     "output_type": "stream",
     "text": [
      "4.530044474389833e-05 0.0075946242594365065 6.483633373125774e-05 0.009085823245159663\n"
     ]
    }
   ],
   "source": [
    "# Injector for the fuel and oxygen\n",
    "# assume orifice discharge coeff. density under nominal conditions and the pressure drop is 689 KPa \n",
    "Cd = 0.7\n",
    "p = 769\n",
    "Pf = 689\n",
    "Af = wf/(Cd*(2*g*p*Pf)**0.5)\n",
    "\n",
    "Df = (4*Af/np.pi)**0.5\n",
    "\n",
    "# density of oxygen at 300 psi\n",
    "po = 1.33*(2068/Patm)\n",
    "\n",
    "# assume velocity of gas stream is approx. 88m/s\n",
    "vo = 88\n",
    "Ao = wo/(po*vo)\n",
    "Do = (4*Ao/np.pi)**0.5\n",
    "\n",
    "print(Af,Df,Ao,Do)"
   ]
  },
  {
   "cell_type": "code",
   "execution_count": null,
   "id": "e9b625f3-5a64-4a0b-ad7e-9532a1b7988b",
   "metadata": {},
   "outputs": [],
   "source": []
  }
 ],
 "metadata": {
  "kernelspec": {
   "display_name": "Python 3 (ipykernel)",
   "language": "python",
   "name": "python3"
  },
  "language_info": {
   "codemirror_mode": {
    "name": "ipython",
    "version": 3
   },
   "file_extension": ".py",
   "mimetype": "text/x-python",
   "name": "python",
   "nbconvert_exporter": "python",
   "pygments_lexer": "ipython3",
   "version": "3.8.5"
  }
 },
 "nbformat": 4,
 "nbformat_minor": 5
}
