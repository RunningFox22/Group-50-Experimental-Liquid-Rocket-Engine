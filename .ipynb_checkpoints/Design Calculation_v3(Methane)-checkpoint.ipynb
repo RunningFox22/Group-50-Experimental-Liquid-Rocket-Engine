{
 "cells": [
  {
   "cell_type": "code",
   "execution_count": 5,
   "id": "77aeeb79",
   "metadata": {},
   "outputs": [],
   "source": [
    "import numpy as np"
   ]
  },
  {
   "cell_type": "markdown",
   "id": "447514bb-5685-499b-8a14-a7f868289812",
   "metadata": {},
   "source": [
    "### Design constraints with raw aluminum is the chamber pressure and temperature\n",
    "- Run the combustion calculation to get data for methane and propane data\n",
    "- Input combustion calculation to get design calculation to see if rocket design is feasible \n",
    "- Select between methane and propane"
   ]
  },
  {
   "cell_type": "markdown",
   "id": "81c0cc92",
   "metadata": {},
   "source": [
    "Target:\n",
    "- F$\\Delta$t = 1280 N*s"
   ]
  },
  {
   "cell_type": "markdown",
   "id": "322557ae",
   "metadata": {},
   "source": [
    "Propellant:\n",
    "- Methyl alcohol (CH3OH) + Oxygen Gas (O2)\n",
    "- 2CH3OH(l) + 3O2(g) → 2CO2(g) + 4H2O(l)"
   ]
  },
  {
   "cell_type": "markdown",
   "id": "e70a3626",
   "metadata": {},
   "source": [
    "Assumes/Input parameters:"
   ]
  },
  {
   "cell_type": "code",
   "execution_count": 6,
   "id": "6291822d",
   "metadata": {},
   "outputs": [],
   "source": [
    "# Ethonal Liquid Fuel\n",
    "# Universal gas constant [J/K*mol]\n",
    "# Ru = 8.314 \n",
    "# # Molecular weight of Methyl Alcohol [g/mol]\n",
    "# M = 32\n",
    "# # Gravity [m/s^2]\n",
    "# g = 9.81\n",
    "# # gamma for ideal gas (Cp/Cv)\n",
    "# ga = 1.216\n",
    "# # Characteristic velocity[m/s]\n",
    "# cstar = 1584\n",
    "# # Mixture ratio (O/F) \n",
    "# r = 1.5\n",
    "# # Thrust [N]  \n",
    "# F = 640\n",
    "# # Specific impulse [sec]\n",
    "# Isp = 205\n",
    "# # Chamber Pressure [Pa]\n",
    "# Pc = 2500000\n",
    "# # Specific gas constant of the propellant []\n",
    "# Rs = Ru/M \n",
    "# # Chamber temperature [K]\n",
    "# Tc = 3000\n",
    "# # Atmosphere pressure [Pa]\n",
    "# Patm = 101350"
   ]
  },
  {
   "cell_type": "code",
   "execution_count": 7,
   "id": "d75d5e37-8bed-4a06-a5c4-5e566a8204f4",
   "metadata": {},
   "outputs": [],
   "source": [
    "# Universal gas constant [J/K*mol]\n",
    "Ru = 8.314 \n",
    "# Molecular weight of Propane Gas [g/mol]\n",
    "M = 44\n",
    "# Gravity [m/s^2]\n",
    "g = 9.81\n",
    "# gamma for ideal gas (Cp/Cv)\n",
    "ga = 1.138601\n",
    "# Characteristic velocity[m/s]\n",
    "cstar = 1112.863755\n",
    "# Mixture ratio (O/F) \n",
    "r = 0.75\n",
    "# Thrust [N]\n",
    "F = 640\n",
    "# Specific impulse [sec]\n",
    "Isp = 172.646681\n",
    "# Chamber Pressure [Pa]\n",
    "Pc = 10.5E5\n",
    "# Specific gas constant of the propellant []\n",
    "Rs = Ru/M \n",
    "# Chamber temperature [K]\n",
    "Tc = 1053.207866\n",
    "# Atmosphere pressure [Pa]\n",
    "Patm = 101350"
   ]
  },
  {
   "cell_type": "code",
   "execution_count": 8,
   "id": "60989cb6",
   "metadata": {},
   "outputs": [
    {
     "name": "stdout",
     "output_type": "stream",
     "text": [
      "total mass flow rate=3.707e-01 kg/s, fuel flow rate=2.118e-01 kg/s, oxidizer flow rate=1.589e-01 kg/s\n",
      "0.37069927802434843 0.21182815887105624 0.1588711191532922\n"
     ]
    }
   ],
   "source": [
    "# The total propellant flow rate [kg/s]\n",
    "w = (F/Isp)/10\n",
    "\n",
    "# Fuel flow rate\n",
    "wf = w/(r+1)\n",
    "\n",
    "# Oxygen flow rate\n",
    "wo = w - wf\n",
    "\n",
    "print(f'total mass flow rate={w:.3e} kg/s, fuel flow rate={wf:.3e} kg/s, oxidizer flow rate={wo:.3e} kg/s')\n",
    "print(w,wf,wo)"
   ]
  },
  {
   "cell_type": "code",
   "execution_count": 9,
   "id": "a6a7ccc9",
   "metadata": {},
   "outputs": [
    {
     "name": "stdout",
     "output_type": "stream",
     "text": [
      "Throat Temperature=9.850e+02 K, Throat Pessure=6.055e+05 Pa, Throat Area=4.005e-04 m^2, Throat Diameter=2.259e-02 m\n"
     ]
    }
   ],
   "source": [
    "# Nozzel parameters\n",
    "Tt = Tc * (1/(1+((ga-1)/2)))\n",
    "                \n",
    "Pt = Pc * ((1+((ga-1)/2))**-(ga/(ga-1)))\n",
    "\n",
    "Cf = (Isp*g)/cstar\n",
    "\n",
    "At = F/(Pc*Cf)\n",
    "\n",
    "Dt = ((4*At)/3.14)**0.5\n",
    "\n",
    "print(f'Throat Temperature={Tt:.3e} K, Throat Pessure={Pt:.3e} Pa, Throat Area={At:.3e} m^2, Throat Diameter={Dt:.3e} m')"
   ]
  },
  {
   "cell_type": "code",
   "execution_count": 10,
   "id": "2954823a",
   "metadata": {},
   "outputs": [
    {
     "name": "stdout",
     "output_type": "stream",
     "text": [
      "Mach Number at the exit = 2.180 ; Exit Area = 9.847e-04 m^2 ; Exit Diameter = 3.541e-02 m^2\n"
     ]
    }
   ],
   "source": [
    "# Exit parameters\n",
    "Me = ((2/(ga-1))*(((Pc/Patm)**((ga-1)/ga))-1))**0.5\n",
    "\n",
    "Ae = (1/Me)*((2/(ga+1))*(1+((ga-1)/2)*Me**2))**((ga+1)/(2*(ga-1)))*At\n",
    "\n",
    "De = (4*Ae/np.pi)**0.5\n",
    "\n",
    "print(f'Mach Number at the exit = {Me:.3f} ; Exit Area = {Ae:.3e} m^2 ; Exit Diameter = {De:.3e} m^2')"
   ]
  },
  {
   "cell_type": "code",
   "execution_count": 11,
   "id": "6b7fd0ef",
   "metadata": {},
   "outputs": [
    {
     "name": "stdout",
     "output_type": "stream",
     "text": [
      "Combustion Chamber Surface Area=3.606e-03 m^2, Combustion Chamber Volume=6.008e-04 m^3, Length of Combustion Chamber=1.514e-01 m\n",
      "0.003606352430537089 0.06776245661730093 0.1514383397904701\n"
     ]
    }
   ],
   "source": [
    "# Assume the characteristic chamber length (L) is approx. 1.5 m , Dc = 5Dt , & Vconver = (1/10)Vc\n",
    "L = 1.5\n",
    "Dc = 3*Dt\n",
    "\n",
    "Ac = ((Dc**2)*np.pi)/4\n",
    "\n",
    "Vc = L*At\n",
    "\n",
    "Lc = Vc/(1.1*Ac)\n",
    "\n",
    "print(f'Combustion Chamber Surface Area={Ac:.3e} m^2, Combustion Chamber Volume={Vc:.3e} m^3, Length of Combustion Chamber={Lc:.3e} m')\n",
    "print(Ac,Dc,Lc)"
   ]
  },
  {
   "cell_type": "code",
   "execution_count": 12,
   "id": "45864315",
   "metadata": {},
   "outputs": [
    {
     "name": "stdout",
     "output_type": "stream",
     "text": [
      "Throat Wall Thickness=1.240e-04 m, Combustion Chamber Wall Thickness=6.451e-04 m\n"
     ]
    }
   ],
   "source": [
    "# thickness of the throat and chamber\n",
    "# Assume stress (s) is approximately 8000 psi or 55e6 Pa [1]\n",
    "s = 55.15e6\n",
    "tt = (Pt*Dt)/(2*s)\n",
    "\n",
    "tc = (Pc*Dc)/(2*s)\n",
    "\n",
    "# The area of the chamber and the converging part of the nozzle\n",
    "\n",
    "# As = (np.pi*(Dc+2*tc)*Lc)*1.1\n",
    "#As={As:.3e}\n",
    "print(f'Throat Wall Thickness={tt:.3e} m, Combustion Chamber Wall Thickness={tc:.3e} m')"
   ]
  },
  {
   "cell_type": "markdown",
   "id": "dc9aaa3a-e39e-476a-a751-d5d87ab65ab1",
   "metadata": {},
   "source": [
    "#### Note about the wall thickness calculation\n",
    "- the chamber and throat thickness calculation is the minimum thickness. The actual wall thickness should be greater to accommodate for the buckling force, welding, and stress concenstration [1,p18] "
   ]
  },
  {
   "cell_type": "code",
   "execution_count": 13,
   "id": "ac4e5c62-a2e4-4512-88d8-c23c69c94e4e",
   "metadata": {},
   "outputs": [
    {
     "name": "stdout",
     "output_type": "stream",
     "text": [
      "Volume flow rate of the fuel is 16.047587793261837L/min\n"
     ]
    }
   ],
   "source": [
    "# Injector for the fuel\n",
    "\n",
    "# density of fuel at room temperature [kg/m^3]\n",
    "RHO_fuel = 792\n",
    "\n",
    "# volume flow rate is calculated as m^3/s\n",
    "conversion_Lpermin = 60000\n",
    "Vdot = (wf/RHO_fuel)*conversion_Lpermin\n",
    "\n",
    "print(f'Volume flow rate of the fuel is {Vdot}L/min')"
   ]
  },
  {
   "cell_type": "code",
   "execution_count": 14,
   "id": "049fd5b7",
   "metadata": {},
   "outputs": [
    {
     "name": "stdout",
     "output_type": "stream",
     "text": [
      "Area of each oxidizer injection is =5.776e-07 m^2, Diameter for each oxidizer injection is=8.575e-04 m\n"
     ]
    }
   ],
   "source": [
    "# Injector for the oxidizer\n",
    "Cd = 0.7\n",
    "# Ambient temperature is assumed 20 C at atmospheric pressure [K]\n",
    "Ta = 293.15\n",
    "# Ambient pressure is assumed at atmospheric pressure [Pa]\n",
    "Pa = Patm\n",
    "# Density of oxidizer at ambient conditions\n",
    "RHO_Oamb = Pa/(Ta*Rs)\n",
    "\n",
    "# Pressure drop across the injector is commonly between 0.482*10^6 and 1.034*10^6 [Pa]\n",
    "delta_Pinj = 1.034e6\n",
    "\n",
    "# Pressure drop at the injector \n",
    "Pinj = Pc + delta_Pinj\n",
    "\n",
    "# Temperature at the injector is assumed as room temperature as well [K]\n",
    "Tinj = 293.15\n",
    "\n",
    "# Density of oxidizer at the injector [kg/m^3]\n",
    "RHO_Oinj = RHO_Oamb*(delta_Pinj/Pa)*(Ta/Tinj)\n",
    "\n",
    "# Total area of the oxidizer injector [m^2]\n",
    "Ao = wo/(Cd*(2*RHO_Oinj*delta_Pinj)**0.5)\n",
    "\n",
    "# For 2 holes, area of each injector is \n",
    "Ao_inj = Ao/2\n",
    "\n",
    "Do = (4*Ao_inj/np.pi)**0.5\n",
    "\n",
    "print(f'Area of each oxidizer injection is ={Ao_inj:.3e} m^2, Diameter for each oxidizer injection is={Do:.3e} m')"
   ]
  },
  {
   "cell_type": "markdown",
   "id": "fd0fd40e-01d6-49bd-a94f-b3a8d15eb112",
   "metadata": {},
   "source": [
    "### References:\n",
    "\n",
    "- [1] L. J. Krzycki, HOW to DESIGN, BUILD and TEST SMALL LIQUID-FUEL ROCKET ENGINES. CA, USA: Rocketlab, 1967.\n",
    "- [2] http://www.diva-portal.org/smash/get/diva2:1375729/FULLTEXT01.pdf\n",
    "- [3] G. P. Sutton and O. Biblarz, Rocket Propulsion Elements, 9th ed. NJ, USA: John Wiley & Sons, Inc., 2017."
   ]
  },
  {
   "cell_type": "code",
   "execution_count": null,
   "id": "e6fc2ac5-69e1-4284-a15b-6189f159eada",
   "metadata": {},
   "outputs": [],
   "source": []
  }
 ],
 "metadata": {
  "interpreter": {
   "hash": "916dbcbb3f70747c44a77c7bcd40155683ae19c65e1c03b4aa3499c5328201f1"
  },
  "kernelspec": {
   "display_name": "Python 3",
   "language": "python",
   "name": "python3"
  },
  "language_info": {
   "codemirror_mode": {
    "name": "ipython",
    "version": 3
   },
   "file_extension": ".py",
   "mimetype": "text/x-python",
   "name": "python",
   "nbconvert_exporter": "python",
   "pygments_lexer": "ipython3",
   "version": "3.8.8"
  }
 },
 "nbformat": 4,
 "nbformat_minor": 5
}
