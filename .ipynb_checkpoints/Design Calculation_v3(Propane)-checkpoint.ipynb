{
 "cells": [
  {
   "cell_type": "code",
   "execution_count": 2,
   "id": "77aeeb79",
   "metadata": {},
   "outputs": [],
   "source": [
    "import numpy as np"
   ]
  },
  {
   "cell_type": "markdown",
   "id": "447514bb-5685-499b-8a14-a7f868289812",
   "metadata": {},
   "source": [
    "### Design constraints with raw aluminum is the chamber pressure and temperature\n",
    "- Run the combustion calculation to get data for methane and propane data\n",
    "- Input combustion calculation to get design calculation to see if rocket design is feasible \n",
    "- Select between methane and propane"
   ]
  },
  {
   "cell_type": "markdown",
   "id": "81c0cc92",
   "metadata": {},
   "source": [
    "Target:\n",
    "- F$\\Delta$t = 1280 N*s"
   ]
  },
  {
   "cell_type": "markdown",
   "id": "322557ae",
   "metadata": {},
   "source": [
    "Propellant:\n",
    "- Propane Gas + Oxygen Gas (O2)\n",
    "- C3H8(g) + 5O2(g) → 3CO2(g) + 4H2O(l)"
   ]
  },
  {
   "cell_type": "markdown",
   "id": "e70a3626",
   "metadata": {},
   "source": [
    "Assumes/Input parameters:"
   ]
  },
  {
   "cell_type": "code",
   "execution_count": 3,
   "id": "d75d5e37-8bed-4a06-a5c4-5e566a8204f4",
   "metadata": {},
   "outputs": [],
   "source": [
    "# Universal gas constant [J/K*mol]\n",
    "Ru = 8.314 \n",
    "# Molecular weight of Propane Gas [g/mol]\n",
    "M = 44\n",
    "# Gravity [m/s^2]\n",
    "g = 9.81\n",
    "# gamma for ideal gas (Cp/Cv)\n",
    "ga = 1.138601\n",
    "# Characteristic velocity[m/s]\n",
    "cstar = 1112.863754940234\n",
    "# Mixture ratio (O/F) \n",
    "r = 0.75\n",
    "# Thrust [N]\n",
    "F = 140\n",
    "# Specific impulse [sec]\n",
    "Isp = 172.646681\n",
    "# Chamber Pressure [Pa]\n",
    "Pc = 10.5E5\n",
    "# Specific gas constant of the propellant []\n",
    "Rs = Ru/M \n",
    "# Chamber temperature [K]\n",
    "Tc = 1053.207866\n",
    "# Atmosphere pressure [Pa]\n",
    "Patm = 101350"
   ]
  },
  {
   "cell_type": "code",
   "execution_count": 4,
   "id": "60989cb6",
   "metadata": {},
   "outputs": [
    {
     "name": "stdout",
     "output_type": "stream",
     "text": [
      "total mass flow rate=8.266e-02 kg/s, fuel flow rate=4.723e-02 kg/s, oxidizer flow rate=3.543e-02 kg/s\n",
      "0.08266102657270766 0.04723487232726152 0.03542615424544614\n"
     ]
    }
   ],
   "source": [
    "# The total propellant flow rate [kg/s]\n",
    "w = (F/Isp)/g\n",
    "\n",
    "# Fuel flow rate\n",
    "wf = w/(r+1)\n",
    "\n",
    "# Oxygen flow rate\n",
    "wo = w - wf\n",
    "\n",
    "print(f'total mass flow rate={w:.3e} kg/s, fuel flow rate={wf:.3e} kg/s, oxidizer flow rate={wo:.3e} kg/s')\n",
    "print(w,wf,wo)"
   ]
  },
  {
   "cell_type": "code",
   "execution_count": 5,
   "id": "a6a7ccc9",
   "metadata": {},
   "outputs": [
    {
     "name": "stdout",
     "output_type": "stream",
     "text": [
      "Throat Temperature=9.850e+02 K, Throat Pessure=6.055e+05 Pa, Throat Area=8.761e-05 m^2, Throat Diameter=1.056e-02 m\n"
     ]
    }
   ],
   "source": [
    "# Nozzel parameters\n",
    "Tt = Tc * (1/(1+((ga-1)/2)))\n",
    "                \n",
    "Pt = Pc * ((1+((ga-1)/2))**-(ga/(ga-1)))\n",
    "\n",
    "Cf = (Isp*g)/cstar\n",
    "\n",
    "At = F/(Pc*Cf)\n",
    "\n",
    "Dt = ((4*At)/3.14)**0.5\n",
    "\n",
    "print(f'Throat Temperature={Tt:.3e} K, Throat Pessure={Pt:.3e} Pa, Throat Area={At:.3e} m^2, Throat Diameter={Dt:.3e} m')"
   ]
  },
  {
   "cell_type": "code",
   "execution_count": 6,
   "id": "2954823a",
   "metadata": {},
   "outputs": [
    {
     "name": "stdout",
     "output_type": "stream",
     "text": [
      "Mach Number at the exit = 2.180 ; Exit Area = 2.154e-04 m^2 ; Exit Diameter = 1.656e-02 m^2\n"
     ]
    }
   ],
   "source": [
    "# Exit parameters\n",
    "Me = ((2/(ga-1))*(((Pc/Patm)**((ga-1)/ga))-1))**0.5\n",
    "\n",
    "Ae = (1/Me)*((2/(ga+1))*(1+((ga-1)/2)*Me**2))**((ga+1)/(2*(ga-1)))*At\n",
    "\n",
    "De = (4*Ae/np.pi)**0.5\n",
    "\n",
    "print(f'Mach Number at the exit = {Me:.3f} ; Exit Area = {Ae:.3e} m^2 ; Exit Diameter = {De:.3e} m^2')"
   ]
  },
  {
   "cell_type": "code",
   "execution_count": 7,
   "id": "6b7fd0ef",
   "metadata": {},
   "outputs": [
    {
     "name": "stdout",
     "output_type": "stream",
     "text": [
      "Combustion Chamber Surface Area=7.889e-04 m^2, Combustion Chamber Volume=1.314e-04 m^3, Length of Combustion Chamber=1.514e-01 m\n",
      "0.000788889594137621 0.03169298704265806 0.15143833979047008\n"
     ]
    }
   ],
   "source": [
    "# Assume the characteristic chamber length (L) is approx. 1.5 m , Dc = 5Dt , & Vconver = (1/10)Vc\n",
    "L = 1.5\n",
    "Dc = 3*Dt\n",
    "\n",
    "Ac = ((Dc**2)*np.pi)/4\n",
    "\n",
    "Vc = L*At\n",
    "\n",
    "Lc = Vc/(1.1*Ac)\n",
    "\n",
    "print(f'Combustion Chamber Surface Area={Ac:.3e} m^2, Combustion Chamber Volume={Vc:.3e} m^3, Length of Combustion Chamber={Lc:.3e} m')\n",
    "print(Ac,Dc,Lc)"
   ]
  },
  {
   "cell_type": "code",
   "execution_count": 23,
   "id": "45864315",
   "metadata": {},
   "outputs": [
    {
     "name": "stdout",
     "output_type": "stream",
     "text": [
      "Combustion Chamber Wall Thickness=6.050e-03 m\n",
      "0.006050479344507448\n"
     ]
    }
   ],
   "source": [
    "# thickness of the throat and chamber\n",
    "# Assume stress (s) is approximately 8000 psi or 55e6 Pa [1]\n",
    "s = 11e6\n",
    "# tt = (Pt*Dt)/(2*s)\n",
    "\n",
    "tc = (Pc*Dc)/(2*s)\n",
    "tc_actual = tc*4\n",
    "\n",
    "# The area of the chamber and the converging part of the nozzle\n",
    "\n",
    "# As = (np.pi*(Dc+2*tc)*Lc)*1.1\n",
    "#As={As:.3e}\n",
    "print(f'Combustion Chamber Wall Thickness={tc_actual:.3e} m')\n",
    "print(tc_actual)"
   ]
  },
  {
   "cell_type": "markdown",
   "id": "dc9aaa3a-e39e-476a-a751-d5d87ab65ab1",
   "metadata": {},
   "source": [
    "#### Note about the wall thickness calculation\n",
    "- the chamber and throat thickness calculation is the minimum thickness. The actual wall thickness should be greater to accommodate for the buckling force, welding, and stress concenstration [1,p18] "
   ]
  },
  {
   "cell_type": "code",
   "execution_count": 27,
   "id": "38fe6ca9-6db5-4d05-a87b-67c086048952",
   "metadata": {},
   "outputs": [
    {
     "name": "stdout",
     "output_type": "stream",
     "text": [
      "Mass flow rate of coolant water is = 3.000e-02 kg/s and annular coolant water flow gap is = 2.992e-05 m\n"
     ]
    }
   ],
   "source": [
    "# Average Heat Transfer Rate for using water\n",
    "# Estimated Average Melting Point of Aluminum is around 640 C or 913 K [5]\n",
    "# Aluminum Thermal Conductivity is around 251 W/m*K [5] and for Copper is 413 [6] \n",
    "#[W m−2]\n",
    "q = 1.923e6 \n",
    "# [K]\n",
    "dTw = 278 \n",
    "#[J kg−1 K−1]\n",
    "cw = 4190 \n",
    "mw= (1.1*np.pi*q*(Dc+2*tc)*Lc)/(cw*dTw)\n",
    "vw = 9.2\n",
    "rhow = 998.2\n",
    "dgap = (((((4*mw)/(np.pi*vw*rhow))+(Dc+2*tc)**2)**0.5)-Dc-2*tc)/2\n",
    "print(f'Mass flow rate of coolant water is = {mw:.3e} kg/s and annular coolant water flow gap is = {dgap:.3e} m')"
   ]
  },
  {
   "cell_type": "code",
   "execution_count": 34,
   "id": "ac4e5c62-a2e4-4512-88d8-c23c69c94e4e",
   "metadata": {},
   "outputs": [
    {
     "name": "stdout",
     "output_type": "stream",
     "text": [
      "Area of the fuel injection is =3.434e-07 m^2, Diameter of the fuel injection is=6.613e-04 m\n"
     ]
    }
   ],
   "source": [
    "# Injector for the fuel\n",
    "Cd = 0.7\n",
    "# Ambient temperature is assumed 20 C at atmospheric pressure [K]\n",
    "Ta = 293.15\n",
    "# Ambient pressure is assumed at atmospheric pressure [Pa]\n",
    "Pa = Patm\n",
    "# Density of fuel at ambient conditions\n",
    "RHO_Famb = Pa/(Ta*Rs)\n",
    "\n",
    "# Pressure drop across the injector is commonly between 0.482*10^6 and 1.034*10^6 [Pa]\n",
    "delta_Pinj = 1.034e6\n",
    "\n",
    "# Pressure drop at the injector \n",
    "Pinj = Pc + delta_Pinj\n",
    "\n",
    "# Temperature at the injector is assumed as room temperature[K]\n",
    "Tinj = 293.15\n",
    "\n",
    "# Density of fuel at the injector [kg/m^3]\n",
    "RHO_Finj = RHO_Famb*(delta_Pinj/Pa)*(Ta/Tinj)\n",
    "\n",
    "# Total area of the fuel injector [m^2]\n",
    "Af = wf/(Cd*(2*RHO_Finj*delta_Pinj)**0.5)\n",
    "\n",
    "# Area of fuel injector\n",
    "Af_inj = Af\n",
    "\n",
    "Df = (4*Af_inj/np.pi)**0.5\n",
    "\n",
    "print(f'Area of the fuel injection is ={Af_inj:.3e} m^2, Diameter of the fuel injection is={Df:.3e} m')"
   ]
  },
  {
   "cell_type": "code",
   "execution_count": 35,
   "id": "049fd5b7",
   "metadata": {},
   "outputs": [
    {
     "name": "stdout",
     "output_type": "stream",
     "text": [
      "Area of each oxidizer injection is =3.437e-07 m^2, Diameter for each oxidizer injection is=6.615e-04 m\n"
     ]
    }
   ],
   "source": [
    "# Injector for the oxidizer\n",
    "Cd = 0.7\n",
    "# Ambient temperature is assumed 20 C at atmospheric pressure [K]\n",
    "Ta = 293.15\n",
    "# Ambient pressure is assumed at atmospheric pressure [Pa]\n",
    "Pa = Patm\n",
    "# Density of oxidizer at ambient conditions\n",
    "RHO_Oamb = Pa/(Ta*Rs)\n",
    "\n",
    "# Pressure drop across the injector is commonly between 0.482*10^6 and 1.034*10^6 [Pa]\n",
    "delta_Pinj = 0.775e6\n",
    "\n",
    "# Pressure drop at the injector \n",
    "Pinj = Pc + delta_Pinj\n",
    "\n",
    "# Temperature at the injector is assumed as room temperature[K]\n",
    "Tinj = 293.15\n",
    "\n",
    "# Density of oxidizer at the injector [kg/m^3]\n",
    "RHO_Oinj = RHO_Oamb*(delta_Pinj/Pa)*(Ta/Tinj)\n",
    "\n",
    "# Total area of the oxidizer injector [m^2]\n",
    "Ao = wo/(Cd*(2*RHO_Oinj*delta_Pinj)**0.5)\n",
    "\n",
    "# Area of oxidizer injector\n",
    "Ao_inj = Ao\n",
    "\n",
    "Do = (4*Ao_inj/np.pi)**0.5\n",
    "\n",
    "print(f'Area of each oxidizer injection is ={Ao_inj:.3e} m^2, Diameter for each oxidizer injection is={Do:.3e} m')"
   ]
  },
  {
   "cell_type": "markdown",
   "id": "fd0fd40e-01d6-49bd-a94f-b3a8d15eb112",
   "metadata": {},
   "source": [
    "### References:\n",
    "\n",
    "- [1] L. J. Krzycki, HOW to DESIGN, BUILD and TEST SMALL LIQUID-FUEL ROCKET ENGINES. CA, USA: Rocketlab, 1967.\n",
    "- [2] http://www.diva-portal.org/smash/get/diva2:1375729/FULLTEXT01.pdf\n",
    "- [3] G. P. Sutton and O. Biblarz, Rocket Propulsion Elements, 9th ed. NJ, USA: John Wiley & Sons, Inc., 2017.\n",
    "- [4] https://www.engineeringtoolbox.com/propane-d_1423.html\n",
    "- [5] https://www.asminternational.org/documents/10192/1849770/05917G%20Sample.pdf/7e7ed58b-3fd6-46bf-aa91-14c6e1360084#:~:text=The%20thermal%20conductivity%20of%20aluminum,F%20)%20(Ref%201.7).\n",
    "- [6] https://www.engineeringtoolbox.com/thermal-conductivity-metals-d_858.html"
   ]
  },
  {
   "cell_type": "code",
   "execution_count": null,
   "id": "e6fc2ac5-69e1-4284-a15b-6189f159eada",
   "metadata": {},
   "outputs": [],
   "source": []
  }
 ],
 "metadata": {
  "interpreter": {
   "hash": "916dbcbb3f70747c44a77c7bcd40155683ae19c65e1c03b4aa3499c5328201f1"
  },
  "kernelspec": {
   "display_name": "Python 3",
   "language": "python",
   "name": "python3"
  },
  "language_info": {
   "codemirror_mode": {
    "name": "ipython",
    "version": 3
   },
   "file_extension": ".py",
   "mimetype": "text/x-python",
   "name": "python",
   "nbconvert_exporter": "python",
   "pygments_lexer": "ipython3",
   "version": "3.8.8"
  }
 },
 "nbformat": 4,
 "nbformat_minor": 5
}
