{
 "cells": [
  {
   "cell_type": "code",
<<<<<<< HEAD:.ipynb_checkpoints/Design_Calculation-checkpoint.ipynb
   "execution_count": 2,
   "id": "f30c3338-592f-4ac5-a51c-d3e889a74a46",
=======
   "execution_count": 1,
>>>>>>> 8ad5639b0a136bc30e7cb5ca64652c7c1be161b7:Design Calculation.ipynb
   "metadata": {},
   "outputs": [],
   "source": [
    "import numpy as np"
   ]
  },
  {
   "cell_type": "markdown",
<<<<<<< HEAD:.ipynb_checkpoints/Design_Calculation-checkpoint.ipynb
   "id": "da859343-25b3-4640-982d-26e6672ccc4d",
=======
>>>>>>> 8ad5639b0a136bc30e7cb5ca64652c7c1be161b7:Design Calculation.ipynb
   "metadata": {},
   "source": [
    "Target:\n",
    "- F$\\Delta$t = 1280 N*s"
   ]
  },
  {
   "cell_type": "markdown",
<<<<<<< HEAD:.ipynb_checkpoints/Design_Calculation-checkpoint.ipynb
   "id": "68201318-1cee-48b6-8c3f-32970b33faaf",
=======
>>>>>>> 8ad5639b0a136bc30e7cb5ca64652c7c1be161b7:Design Calculation.ipynb
   "metadata": {},
   "source": [
    "Propellant:\n",
    "- Methyl alcohol (CH3OH) + Oxygen Gas (O2)\n",
    "- 2CH3OH(l) + 3O2(g) → 2CO2(g) + 4H2O(l)"
   ]
  },
  {
   "cell_type": "markdown",
<<<<<<< HEAD:.ipynb_checkpoints/Design_Calculation-checkpoint.ipynb
   "id": "364c3842-ad54-4a9f-99b5-4ec636315414",
=======
>>>>>>> 8ad5639b0a136bc30e7cb5ca64652c7c1be161b7:Design Calculation.ipynb
   "metadata": {},
   "source": [
    "Constants:"
   ]
  },
  {
   "cell_type": "code",
<<<<<<< HEAD:.ipynb_checkpoints/Design_Calculation-checkpoint.ipynb
   "execution_count": 3,
   "id": "4e4ea698-94d2-4c4b-8abd-f3c4de59e036",
=======
   "execution_count": 2,
>>>>>>> 8ad5639b0a136bc30e7cb5ca64652c7c1be161b7:Design Calculation.ipynb
   "metadata": {},
   "outputs": [],
   "source": [
    "# Universal gas constant [J*kp/K]\n",
    "Ru = 8.314 \n",
<<<<<<< HEAD:.ipynb_checkpoints/Design_Calculation-checkpoint.ipynb
    "# Molecular weight [Kg/Mol]\n",
    "M = 32\n",
    "# Gravity [m/s^2]\n",
    "g = 10\n",
    "# gamma for ideal gas\n",
    "ga = 1.4"
=======
    "# Molecular weight of Ethanol [kg/Mol]\n",
    "M = 44E-3\n",
    "# Gravity [m/s^2]\n",
    "g = 9.81\n",
    "# gamma for ideal gas (Cp/Cv)\n",
    "ga = 1.226995"
>>>>>>> 8ad5639b0a136bc30e7cb5ca64652c7c1be161b7:Design Calculation.ipynb
   ]
  },
  {
   "cell_type": "markdown",
<<<<<<< HEAD:.ipynb_checkpoints/Design_Calculation-checkpoint.ipynb
   "id": "f4b98802-9bdd-4b0f-a4ad-0fe3efd27f33",
=======
>>>>>>> 8ad5639b0a136bc30e7cb5ca64652c7c1be161b7:Design Calculation.ipynb
   "metadata": {},
   "source": [
    "Assumes/Input parameters:"
   ]
  },
  {
   "cell_type": "code",
<<<<<<< HEAD:.ipynb_checkpoints/Design_Calculation-checkpoint.ipynb
   "execution_count": 4,
   "id": "366442ca-be72-4c68-9d4c-fdb3ddf4e6ed",
=======
   "execution_count": 3,
>>>>>>> 8ad5639b0a136bc30e7cb5ca64652c7c1be161b7:Design Calculation.ipynb
   "metadata": {},
   "outputs": [],
   "source": [
    "# Mixture ratio (O/F) \n",
<<<<<<< HEAD:.ipynb_checkpoints/Design_Calculation-checkpoint.ipynb
    "r = 1.5\n",
    "# Thurst [N]  \n",
    "F = 640 \n",
    "# Specific impulse [sec]\n",
    "Isp = 248 \n",
    "# Chamber Pressure [KPa]\n",
    "Pc = 2068 \n",
=======
    "r = 7.25\n",
    "# Thrust [N]  \n",
    "F = 640 \n",
    "# Specific impulse [sec]\n",
    "Isp = 259.05\n",
    "# Chamber Pressure [Pa]\n",
    "Pc = 10.5E5\n",
>>>>>>> 8ad5639b0a136bc30e7cb5ca64652c7c1be161b7:Design Calculation.ipynb
    "# Specific constant [J*kp/K]\n",
    "Rs = Ru/M\n",
    "# Chamber temperature [K]\n",
<<<<<<< HEAD:.ipynb_checkpoints/Design_Calculation-checkpoint.ipynb
    "Tc = 3155.4 \n",
    "# Atmosphere pressure\n",
    "Patm = 101.35"
=======
    "Tc = 3164.004217\n",
    "# Atmosphere pressure [Pa]\n",
    "Patm = 101325"
>>>>>>> 8ad5639b0a136bc30e7cb5ca64652c7c1be161b7:Design Calculation.ipynb
   ]
  },
  {
   "cell_type": "code",
<<<<<<< HEAD:.ipynb_checkpoints/Design_Calculation-checkpoint.ipynb
   "execution_count": 5,
   "id": "adb45d07-3440-48a5-aa53-4b0f4927c538",
=======
   "execution_count": 4,
>>>>>>> 8ad5639b0a136bc30e7cb5ca64652c7c1be161b7:Design Calculation.ipynb
   "metadata": {},
   "outputs": [
    {
     "name": "stdout",
     "output_type": "stream",
     "text": [
<<<<<<< HEAD:.ipynb_checkpoints/Design_Calculation-checkpoint.ipynb
      "0.25806451612903225 0.1032258064516129 0.15483870967741936\n"
=======
      "total mass flow rate=2.518e-01 kg/s, fuel flow rate=3.053e-02 kg/s, oxidizer flow rate=2.213e-01 kg/s\n"
>>>>>>> 8ad5639b0a136bc30e7cb5ca64652c7c1be161b7:Design Calculation.ipynb
     ]
    }
   ],
   "source": [
    "# The total propellant flow rate [kg/s]\n",
    "w = (F/Isp)/g\n",
    "\n",
    "# Fuel flow rate\n",
    "wf = w/(r+1)\n",
    "\n",
    "# Oxygen flow rate\n",
    "wo = w - wf\n",
    "\n",
<<<<<<< HEAD:.ipynb_checkpoints/Design_Calculation-checkpoint.ipynb
    "print(w,wf,wo)"
=======
    "print(f'total mass flow rate={w:.3e} kg/s, fuel flow rate={wf:.3e} kg/s, oxidizer flow rate={wo:.3e} kg/s')"
>>>>>>> 8ad5639b0a136bc30e7cb5ca64652c7c1be161b7:Design Calculation.ipynb
   ]
  },
  {
   "cell_type": "code",
<<<<<<< HEAD:.ipynb_checkpoints/Design_Calculation-checkpoint.ipynb
   "execution_count": 6,
   "id": "a0149d4d-c9a5-4066-b0db-884add1e3395",
=======
   "execution_count": 5,
>>>>>>> 8ad5639b0a136bc30e7cb5ca64652c7c1be161b7:Design Calculation.ipynb
   "metadata": {},
   "outputs": [
    {
     "name": "stdout",
     "output_type": "stream",
     "text": [
<<<<<<< HEAD:.ipynb_checkpoints/Design_Calculation-checkpoint.ipynb
      "2629.5 1092.4867369991161 0.001647534704950711 0.04580072420461083\n"
=======
      "Throat Temperature=2.842e+03 K, Throat Pessure=5.872e+05 kPa, Throat Area=9.057e-05 m^2, Throat Diameter=1.074e-02 m\n"
>>>>>>> 8ad5639b0a136bc30e7cb5ca64652c7c1be161b7:Design Calculation.ipynb
     ]
    }
   ],
   "source": [
    "# Nozzel parameters\n",
    "Tt = Tc * (1/(1+((ga-1)/2)))\n",
    "                 \n",
    "Pt = Pc * ((1+((ga-1)/2))**(-ga/(ga-1)))\n",
    "                               \n",
    "# in meters\n",
    "At = (w/Pt)*((Rs*Tt)/(ga*g))**0.5\n",
    "\n",
    "Dt = (4*At/np.pi)**0.5\n",
    "\n",
<<<<<<< HEAD:.ipynb_checkpoints/Design_Calculation-checkpoint.ipynb
    "print(Tt,Pt,At,Dt)"
=======
    "print(f'Throat Temperature={Tt:.3e} K, Throat Pessure={Pt:.3e} kPa, Throat Area={At:.3e} m^2, Throat Diameter={Dt:.3e} m')"
>>>>>>> 8ad5639b0a136bc30e7cb5ca64652c7c1be161b7:Design Calculation.ipynb
   ]
  },
  {
   "cell_type": "code",
<<<<<<< HEAD:.ipynb_checkpoints/Design_Calculation-checkpoint.ipynb
   "execution_count": 7,
   "id": "df0fd563-2f3f-46f1-8c91-14bf0df5e6fd",
=======
   "execution_count": 6,
>>>>>>> 8ad5639b0a136bc30e7cb5ca64652c7c1be161b7:Design Calculation.ipynb
   "metadata": {},
   "outputs": [
    {
     "name": "stdout",
     "output_type": "stream",
     "text": [
<<<<<<< HEAD:.ipynb_checkpoints/Design_Calculation-checkpoint.ipynb
      "2.205156078519267 0.0033184151472492505 0.06500105684776136\n"
=======
      "Mach Number at Throat=1.840, Exit Area=1.431e-04 m^2, Exit Diameter=1.350e-02 m^2\n"
>>>>>>> 8ad5639b0a136bc30e7cb5ca64652c7c1be161b7:Design Calculation.ipynb
     ]
    }
   ],
   "source": [
    "# Exist parameters\n",
    "Ma = ((2/(ga-1))*(((Pt/Patm)**((ga-1)/ga))-1))**0.5\n",
    "\n",
    "Ae = (1/Ma)*((2/(ga+1))*(1+((ga-1)/2)*Ma**2))**((ga+1)/(2*(ga-1)))*At\n",
    "\n",
    "De = (4*Ae/np.pi)**0.5\n",
    "\n",
<<<<<<< HEAD:.ipynb_checkpoints/Design_Calculation-checkpoint.ipynb
    "print(Ma,Ae,De)"
=======
    "print(f'Mach Number at Throat={Ma:.3f}, Exit Area={Ae:.3e} m^2, Exit Diameter={De:.3e} m^2')"
>>>>>>> 8ad5639b0a136bc30e7cb5ca64652c7c1be161b7:Design Calculation.ipynb
   ]
  },
  {
   "cell_type": "code",
<<<<<<< HEAD:.ipynb_checkpoints/Design_Calculation-checkpoint.ipynb
   "execution_count": 8,
   "id": "48139e92-ea79-4c0e-9f1b-fde8923e6a37",
=======
   "execution_count": 7,
>>>>>>> 8ad5639b0a136bc30e7cb5ca64652c7c1be161b7:Design Calculation.ipynb
   "metadata": {},
   "outputs": [
    {
     "name": "stdout",
     "output_type": "stream",
     "text": [
<<<<<<< HEAD:.ipynb_checkpoints/Design_Calculation-checkpoint.ipynb
      "0.041188367623767784 0.0024713020574260664 0.05454545454545453\n"
=======
      "Combustion Chamber Surface Area=2.264e-03 m^2, Combustion Chamber Volume=1.359e-04 m^3, Characteristic Length of Combustion Chamber=5.455e-02 m\n"
>>>>>>> 8ad5639b0a136bc30e7cb5ca64652c7c1be161b7:Design Calculation.ipynb
     ]
    }
   ],
   "source": [
    "# Assume L is approx. 1.5 m , Dc = 5Dt , & Vconver = (1/10)Vc\n",
    "L = 1.5\n",
    "Dc = 5*Dt\n",
    "\n",
    "Ac = Dc**2*np.pi/4\n",
    "\n",
    "Vc = L*At\n",
    "\n",
    "Lc = Vc/(1.1*Ac)\n",
    "\n",
<<<<<<< HEAD:.ipynb_checkpoints/Design_Calculation-checkpoint.ipynb
    "print(Ac,Vc,Lc)"
=======
    "print(f'Combustion Chamber Surface Area={Ac:.3e} m^2, Combustion Chamber Volume={Vc:.3e} m^3, Characteristic Length of Combustion Chamber={Lc:.3e} m')"
>>>>>>> 8ad5639b0a136bc30e7cb5ca64652c7c1be161b7:Design Calculation.ipynb
   ]
  },
  {
   "cell_type": "code",
<<<<<<< HEAD:.ipynb_checkpoints/Design_Calculation-checkpoint.ipynb
   "execution_count": 9,
   "id": "f44d293e-6c12-4c88-abd6-623f9b884338",
=======
   "execution_count": 8,
>>>>>>> 8ad5639b0a136bc30e7cb5ca64652c7c1be161b7:Design Calculation.ipynb
   "metadata": {},
   "outputs": [
    {
     "name": "stdout",
     "output_type": "stream",
     "text": [
<<<<<<< HEAD:.ipynb_checkpoints/Design_Calculation-checkpoint.ipynb
      "0.0004548789430771975 0.004305268075233419 0.04478921343391583\n"
=======
      "Throat Wall Thickness=5.733e-02 m, Combustion Chamber Wall Thickness=5.125e-01 m, As=2.033e-01\n"
>>>>>>> 8ad5639b0a136bc30e7cb5ca64652c7c1be161b7:Design Calculation.ipynb
     ]
    }
   ],
   "source": [
    "# thickness of the throat and chamber\n",
    "# Assume stress (s) is 55000 KPa\n",
    "s = 55000\n",
    "tt = (Pt*Dt)/(2*s)\n",
    "\n",
    "tc = (Pc*Dc)/(2*s)\n",
    "\n",
    "As = (np.pi*(Dc+2*tc)*Lc)*1.1\n",
    "\n",
<<<<<<< HEAD:.ipynb_checkpoints/Design_Calculation-checkpoint.ipynb
    "print(tt,tc,As)"
=======
    "print(f'Throat Wall Thickness={tt:.3e} m, Combustion Chamber Wall Thickness={tc:.3e} m, As={As:.3e}')"
>>>>>>> 8ad5639b0a136bc30e7cb5ca64652c7c1be161b7:Design Calculation.ipynb
   ]
  },
  {
   "cell_type": "code",
<<<<<<< HEAD:.ipynb_checkpoints/Design_Calculation-checkpoint.ipynb
   "execution_count": 10,
   "id": "d4137ea6-6325-4be0-ac1f-7d5fd1ddefdb",
=======
   "execution_count": 9,
>>>>>>> 8ad5639b0a136bc30e7cb5ca64652c7c1be161b7:Design Calculation.ipynb
   "metadata": {},
   "outputs": [],
   "source": [
    "# Thermal design (DN)"
   ]
  },
  {
   "cell_type": "code",
<<<<<<< HEAD:.ipynb_checkpoints/Design_Calculation-checkpoint.ipynb
   "execution_count": 11,
   "id": "c41c9f51-1015-4c82-b609-47d6ccfbab28",
=======
   "execution_count": 10,
>>>>>>> 8ad5639b0a136bc30e7cb5ca64652c7c1be161b7:Design Calculation.ipynb
   "metadata": {},
   "outputs": [
    {
     "name": "stdout",
     "output_type": "stream",
     "text": [
<<<<<<< HEAD:.ipynb_checkpoints/Design_Calculation-checkpoint.ipynb
      "4.530044474389833e-05 0.0075946242594365065 6.483633373125774e-05 0.009085823245159663\n"
=======
      "Fuel Injection Area=1.353e-05 m^2,Fuel Injection Diameter=4.150e-03 m, Oxidizer Injection Area=9.265e-02 m^2, Oxidizer Injection Diameter=3.435e-01 m\n"
>>>>>>> 8ad5639b0a136bc30e7cb5ca64652c7c1be161b7:Design Calculation.ipynb
     ]
    }
   ],
   "source": [
    "# Injector for the fuel and oxygen\n",
    "# assume orifice discharge coeff. density under nominal conditions and the pressure drop is 689 KPa \n",
    "Cd = 0.7\n",
    "p = 769\n",
    "Pf = 689\n",
    "Af = wf/(Cd*(2*g*p*Pf)**0.5)\n",
    "\n",
    "Df = (4*Af/np.pi)**0.5\n",
    "\n",
    "# density of oxygen at 300 psi\n",
    "po = 1.33*(2068/Patm)\n",
    "\n",
    "# assume velocity of gas stream is approx. 88m/s\n",
    "vo = 88\n",
    "Ao = wo/(po*vo)\n",
    "Do = (4*Ao/np.pi)**0.5\n",
    "\n",
<<<<<<< HEAD:.ipynb_checkpoints/Design_Calculation-checkpoint.ipynb
    "print(Af,Df,Ao,Do)"
=======
    "print(f'Fuel Injection Area={Af:.3e} m^2,Fuel Injection Diameter={Df:.3e} m, Oxidizer Injection Area={Ao:.3e} m^2, Oxidizer Injection Diameter={Do:.3e} m')"
>>>>>>> 8ad5639b0a136bc30e7cb5ca64652c7c1be161b7:Design Calculation.ipynb
   ]
  },
  {
   "cell_type": "code",
   "execution_count": null,
<<<<<<< HEAD:.ipynb_checkpoints/Design_Calculation-checkpoint.ipynb
   "id": "e9b625f3-5a64-4a0b-ad7e-9532a1b7988b",
=======
>>>>>>> 8ad5639b0a136bc30e7cb5ca64652c7c1be161b7:Design Calculation.ipynb
   "metadata": {},
   "outputs": [],
   "source": []
  }
 ],
 "metadata": {
  "interpreter": {
   "hash": "916dbcbb3f70747c44a77c7bcd40155683ae19c65e1c03b4aa3499c5328201f1"
  },
  "kernelspec": {
<<<<<<< HEAD:.ipynb_checkpoints/Design_Calculation-checkpoint.ipynb
   "display_name": "Python 3 (ipykernel)",
   "language": "python",
=======
   "display_name": "Python 3.8.10 64-bit",
>>>>>>> 8ad5639b0a136bc30e7cb5ca64652c7c1be161b7:Design Calculation.ipynb
   "name": "python3"
  },
  "language_info": {
   "codemirror_mode": {
    "name": "ipython",
    "version": 3
   },
   "file_extension": ".py",
   "mimetype": "text/x-python",
   "name": "python",
   "nbconvert_exporter": "python",
   "pygments_lexer": "ipython3",
<<<<<<< HEAD:.ipynb_checkpoints/Design_Calculation-checkpoint.ipynb
   "version": "3.8.5"
=======
   "version": "3.8.10"
>>>>>>> 8ad5639b0a136bc30e7cb5ca64652c7c1be161b7:Design Calculation.ipynb
  }
 },
 "nbformat": 4,
 "nbformat_minor": 5
}
