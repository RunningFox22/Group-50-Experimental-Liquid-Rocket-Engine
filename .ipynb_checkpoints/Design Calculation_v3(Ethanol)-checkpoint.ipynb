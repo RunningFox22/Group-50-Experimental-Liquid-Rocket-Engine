{
 "cells": [
  {
   "cell_type": "code",
   "execution_count": 2,
   "id": "77aeeb79",
   "metadata": {},
   "outputs": [],
   "source": [
    "import numpy as np"
   ]
  },
  {
   "cell_type": "markdown",
   "id": "447514bb-5685-499b-8a14-a7f868289812",
   "metadata": {},
   "source": [
    "### Copper liquid rocket engine using methyl alcohol as the fuel propellant "
   ]
  },
  {
   "cell_type": "markdown",
   "id": "81c0cc92",
   "metadata": {},
   "source": [
    "Target:\n",
    "- F$\\Delta$t = 1280 N*s"
   ]
  },
  {
   "cell_type": "markdown",
   "id": "322557ae",
   "metadata": {},
   "source": [
    "Propellant:\n",
    "- Ethanol alcohol  + Oxygen Gas (O2)\n",
    "- C2H5OH(l) + 2O2(g) → CO2(g) + 2H2O(l)"
   ]
  },
  {
   "cell_type": "markdown",
   "id": "e70a3626",
   "metadata": {},
   "source": [
    "Assumes/Input parameters:"
   ]
  },
  {
   "cell_type": "code",
   "execution_count": 3,
   "id": "d75d5e37-8bed-4a06-a5c4-5e566a8204f4",
   "metadata": {},
   "outputs": [],
   "source": [
    "# Universal gas constant [J/K*mol]\n",
    "Ru = 8.314 \n",
    "# Molecular weight of Ethanol Alcohol [g/mol]\n",
    "M = 22 \n",
    "# Gravity [m/s^2]\n",
    "g = 9.81\n",
    "# gamma for ideal gas (Cp/Cv)\n",
    "ga = 1.216\n",
    "# Characteristic velocity[m/s]\n",
    "cstar = 1645\n",
    "# Mixture ratio (O/F) \n",
    "r = 1.3\n",
    "# Thrust [N]  \n",
    "F = 640\n",
    "# Specific impulse [sec]\n",
    "Isp = 228\n",
    "# Chamber Pressure [Pa]\n",
    "Pc = 1.5e6\n",
    "# Specific gas constant of the propellant []\n",
    "Rs = Ru/M \n",
    "# Chamber temperature [K]\n",
    "Tc = 3030\n",
    "# Atmosphere pressure [Pa]\n",
    "Patm = 101350"
   ]
  },
  {
   "cell_type": "code",
   "execution_count": 4,
   "id": "60989cb6",
   "metadata": {},
   "outputs": [
    {
     "name": "stdout",
     "output_type": "stream",
     "text": [
      "total mass flow rate=2.861e-01 kg/s, fuel flow rate=1.244e-01 kg/s, oxidizer flow rate=1.617e-01 kg/s\n",
      "0.2861383836758052 0.12440799290252401 0.16173039077328116\n"
     ]
    }
   ],
   "source": [
    "# The total propellant flow rate [kg/s]\n",
    "w = (F/Isp)/g\n",
    "\n",
    "# Fuel flow rate\n",
    "wf = w/(r+1)\n",
    "\n",
    "# Oxygen flow rate\n",
    "wo = w - wf\n",
    "\n",
    "print(f'total mass flow rate={w:.3e} kg/s, fuel flow rate={wf:.3e} kg/s, oxidizer flow rate={wo:.3e} kg/s')\n",
    "print(w,wf,wo)"
   ]
  },
  {
   "cell_type": "code",
   "execution_count": 5,
   "id": "a6a7ccc9",
   "metadata": {},
   "outputs": [
    {
     "name": "stdout",
     "output_type": "stream",
     "text": [
      "Throat Temperature=2.735e+03 K, Throat Pessure=8.421e+05 Pa, Throat Area=3.138e-04 m^2, Throat Diameter=1.999e-02 m\n"
     ]
    }
   ],
   "source": [
    "# Nozzel parameters\n",
    "Tt = Tc * (1/(1+((ga-1)/2)))\n",
    "                \n",
    "Pt = Pc * ((1+((ga-1)/2))**-(ga/(ga-1)))\n",
    "\n",
    "Cf = (Isp*g)/cstar\n",
    "\n",
    "At = F/(Pc*Cf)\n",
    "\n",
    "Dt = ((4*At)/3.14)**0.5\n",
    "\n",
    "print(f'Throat Temperature={Tt:.3e} K, Throat Pessure={Pt:.3e} Pa, Throat Area={At:.3e} m^2, Throat Diameter={Dt:.3e} m')"
   ]
  },
  {
   "cell_type": "code",
   "execution_count": 6,
   "id": "2954823a",
   "metadata": {},
   "outputs": [
    {
     "name": "stdout",
     "output_type": "stream",
     "text": [
      "Mach Number at the exit = 2.384 ; Exit Area = 9.061e-04 m^2 ; Exit Diameter = 3.397e-02 m^2\n"
     ]
    }
   ],
   "source": [
    "# Exit parameters\n",
    "Me = ((2/(ga-1))*(((Pc/Patm)**((ga-1)/ga))-1))**0.5\n",
    "\n",
    "Ae = (1/Me)*((2/(ga+1))*(1+((ga-1)/2)*Me**2))**((ga+1)/(2*(ga-1)))*At\n",
    "\n",
    "De = (4*Ae/np.pi)**0.5\n",
    "\n",
    "print(f'Mach Number at the exit = {Me:.3f} ; Exit Area = {Ae:.3e} m^2 ; Exit Diameter = {De:.3e} m^2')"
   ]
  },
  {
   "cell_type": "code",
   "execution_count": 7,
   "id": "6b7fd0ef",
   "metadata": {},
   "outputs": [
    {
     "name": "stdout",
     "output_type": "stream",
     "text": [
      "Combustion Chamber Surface Area=2.826e-03 m^2, Combustion Chamber Volume=4.707e-04 m^3, Length of Combustion Chamber=1.514e-01 m\n",
      "0.0028256183149462082 0.05998073838256285 0.15143833979047014\n"
     ]
    }
   ],
   "source": [
    "# Assume the characteristic chamber length (L) is approx. 1.5 m , Dc = 5Dt , & Vconver = (1/10)Vc\n",
    "L = 1.5\n",
    "Dc = 3*Dt\n",
    "\n",
    "Ac = ((Dc**2)*np.pi)/4\n",
    "\n",
    "Vc = L*At\n",
    "\n",
    "Lc = Vc/(1.1*Ac)\n",
    "\n",
    "print(f'Combustion Chamber Surface Area={Ac:.3e} m^2, Combustion Chamber Volume={Vc:.3e} m^3, Length of Combustion Chamber={Lc:.3e} m')\n",
    "print(Ac,Dc,Lc)"
   ]
  },
  {
   "cell_type": "code",
   "execution_count": 15,
   "id": "45864315",
   "metadata": {},
   "outputs": [
    {
     "name": "stdout",
     "output_type": "stream",
     "text": [
      "Combustion Chamber Wall Thickness=1.060e-02 m\n",
      "0.010604028997823894\n"
     ]
    }
   ],
   "source": [
    "# thickness of the throat and chamber\n",
    "# Assume stress (s) is approximately 8000 psi or 55e6 Pa [1]\n",
    "s = 55.15e6\n",
    "\n",
    "tc = (Pc*Dc)/(2*s)\n",
    "\n",
    "tc_actual = tc*13\n",
    "\n",
    "print(f'Combustion Chamber Wall Thickness={tc_actual:.3e} m')\n",
    "print(tc_actual)"
   ]
  },
  {
   "cell_type": "markdown",
   "id": "dc9aaa3a-e39e-476a-a751-d5d87ab65ab1",
   "metadata": {},
   "source": [
    "#### Note about the wall thickness calculation\n",
    "- the chamber and throat thickness calculation is the minimum thickness. The actual wall thickness should be greater to accommodate for the buckling force, welding, and stress concenstration [1,p18] "
   ]
  },
  {
   "cell_type": "code",
   "execution_count": 10,
   "id": "510689a5-b4f5-4ca7-9ed8-40059e916849",
   "metadata": {},
   "outputs": [
    {
     "name": "stdout",
     "output_type": "stream",
     "text": [
      "Mass flow rate of coolant water is = 5.323e-02 kg/s and annular coolant water flow gap is = 2.993e-05 m\n",
      "0.05323105433549041\n"
     ]
    }
   ],
   "source": [
    "# Average Heat Transfer Rate for using water\n",
    "# Estimated Average Melting Point of Aluminum is around 640 C or 913 K [5]\n",
    "# Aluminum Thermal Conductivity is around 251 W/m*K [5] and for Copper is 413 [6] \n",
    "#[W m−2]\n",
    "q = 1.923e6 \n",
    "# [K]\n",
    "dTw = 278 \n",
    "#[J kg−1 K−1]\n",
    "cw = 4190 \n",
    "mw= (1.1*np.pi*q*(Dc+2*tc)*Lc)/(cw*dTw)\n",
    "vw = 9.2\n",
    "rhow = 998.2\n",
    "dgap = (((((4*mw)/(np.pi*vw*rhow))+(Dc+2*tc)**2)**0.5)-Dc-2*tc)/2\n",
    "print(f'Mass flow rate of coolant water is = {mw:.3e} kg/s and annular coolant water flow gap is = {dgap:.3e} m')\n",
    "print(mw)"
   ]
  },
  {
   "cell_type": "code",
   "execution_count": 41,
   "id": "7645d5ca-46e7-43ee-a084-8d28fdb30a94",
   "metadata": {},
   "outputs": [
    {
     "name": "stdout",
     "output_type": "stream",
     "text": [
      "Volume flow rate of the fuel is 8.396489959675412L/min\n"
     ]
    }
   ],
   "source": [
    "# Injector for the fuel\n",
    "\n",
    "# density of fuel at room temperature [kg/m^3]\n",
    "RHO_fuel = 889\n",
    "\n",
    "# volume flow rate is calculated as m^3/s\n",
    "conversion_Lpermin = 60000\n",
    "Vdot = (wf/RHO_fuel)*conversion_Lpermin\n",
    "\n",
    "print(f'Volume flow rate of the fuel is {Vdot}L/min')"
   ]
  },
  {
   "cell_type": "code",
   "execution_count": 11,
   "id": "049fd5b7",
   "metadata": {},
   "outputs": [
    {
     "name": "stdout",
     "output_type": "stream",
     "text": [
      "Area of each oxidizer injection is =1.663e-06 m^2, Diameter for each oxidizer injection is=1.455e-03 m\n"
     ]
    }
   ],
   "source": [
    "# Injector for the oxidizer\n",
    "Cd = 0.7\n",
    "# Ambient temperature is assumed 20 C at atmospheric pressure [K]\n",
    "Ta = 293.15\n",
    "# Ambient pressure is assumed at atmospheric pressure [Pa]\n",
    "Pa = Patm\n",
    "# Density of oxidizer at ambient conditions\n",
    "RHO_Oamb = Pa/(Ta*Rs)\n",
    "\n",
    "# Pressure drop across the injector is commonly between 0.482*10^6 and 1.034*10^6 [Pa]\n",
    "delta_Pinj = 1.034e6\n",
    "\n",
    "# Pressure drop at the injector \n",
    "Pinj = Pc + delta_Pinj\n",
    "\n",
    "# Temperature at the injector is assumed as room temperature[K]\n",
    "Tinj = 293.15\n",
    "\n",
    "# Density of oxidizer at the injector [kg/m^3]\n",
    "RHO_Oinj = RHO_Oamb*(delta_Pinj/Pa)*(Ta/Tinj)\n",
    "\n",
    "# Total area of the oxidizer injector [m^2]\n",
    "Ao = wo/(Cd*(2*RHO_Oinj*delta_Pinj)**0.5)\n",
    "\n",
    "# Area of oxidizer injector\n",
    "Ao_inj = Ao\n",
    "\n",
    "Do = (4*Ao_inj/np.pi)**0.5\n",
    "\n",
    "print(f'Area of each oxidizer injection is ={Ao_inj:.3e} m^2, Diameter for each oxidizer injection is={Do:.3e} m')"
   ]
  },
  {
   "cell_type": "markdown",
   "id": "fd0fd40e-01d6-49bd-a94f-b3a8d15eb112",
   "metadata": {},
   "source": [
    "### References:\n",
    "\n",
    "- [1] L. J. Krzycki, HOW to DESIGN, BUILD and TEST SMALL LIQUID-FUEL ROCKET ENGINES. CA, USA: Rocketlab, 1967.\n",
    "- [2] http://www.diva-portal.org/smash/get/diva2:1375729/FULLTEXT01.pdf\n",
    "- [3] G. P. Sutton and O. Biblarz, Rocket Propulsion Elements, 9th ed. NJ, USA: John Wiley & Sons, Inc., 2017."
   ]
  },
  {
   "cell_type": "code",
   "execution_count": null,
   "id": "aea8e0c0-57aa-418a-aef2-1a2bd8602302",
   "metadata": {},
   "outputs": [],
   "source": []
  }
 ],
 "metadata": {
  "interpreter": {
   "hash": "916dbcbb3f70747c44a77c7bcd40155683ae19c65e1c03b4aa3499c5328201f1"
  },
  "kernelspec": {
   "display_name": "Python 3 (ipykernel)",
   "language": "python",
   "name": "python3"
  },
  "language_info": {
   "codemirror_mode": {
    "name": "ipython",
    "version": 3
   },
   "file_extension": ".py",
   "mimetype": "text/x-python",
   "name": "python",
   "nbconvert_exporter": "python",
   "pygments_lexer": "ipython3",
   "version": "3.8.5"
  }
 },
 "nbformat": 4,
 "nbformat_minor": 5
}
